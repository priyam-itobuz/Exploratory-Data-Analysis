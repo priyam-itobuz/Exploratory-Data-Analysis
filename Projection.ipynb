{
 "cells": [
  {
   "cell_type": "code",
   "execution_count": 109,
   "id": "14ed128d-4168-4047-a4df-03246b930874",
   "metadata": {},
   "outputs": [],
   "source": [
    "import numpy as np\n",
    "import math"
   ]
  },
  {
   "cell_type": "markdown",
   "id": "97aedbb5-2697-4881-9328-752c12cbc62e",
   "metadata": {},
   "source": [
    "Finding the Projection of One Vector on the other"
   ]
  },
  {
   "cell_type": "code",
   "execution_count": 4,
   "id": "ed075306-04ec-4cae-93b2-6590ca3c1396",
   "metadata": {},
   "outputs": [],
   "source": [
    "v1 = np.array([1, 2, 3])\n",
    "v2 = np.array([4, 5, 6])"
   ]
  },
  {
   "cell_type": "code",
   "execution_count": 5,
   "id": "8de906b6-3df1-4931-bb4f-7385a79d0d7c",
   "metadata": {},
   "outputs": [],
   "source": [
    "projection = np.dot(v2, v1) / np.dot(v1, v1) * v1"
   ]
  },
  {
   "cell_type": "code",
   "execution_count": 6,
   "id": "96ef74de-569a-40d6-bcff-37587fe2e508",
   "metadata": {},
   "outputs": [
    {
     "name": "stdout",
     "output_type": "stream",
     "text": [
      "[2.28571429 4.57142857 6.85714286]\n"
     ]
    }
   ],
   "source": [
    "print(projection)"
   ]
  },
  {
   "cell_type": "markdown",
   "id": "5a274be0-173a-4c0d-bbc2-e3cafe337ad0",
   "metadata": {},
   "source": [
    "Find the Rank of the Matrix"
   ]
  },
  {
   "cell_type": "code",
   "execution_count": 7,
   "id": "4bbabe62-bb59-4829-9cda-5fbc65162dc8",
   "metadata": {},
   "outputs": [],
   "source": [
    "matrix = np.array([[1, 2, 3],\n",
    "                   [4, 5, 6],\n",
    "                   [7, 8, 9]])"
   ]
  },
  {
   "cell_type": "code",
   "execution_count": 8,
   "id": "7c3fbf22-7ad2-4470-90ee-321816e6f0e5",
   "metadata": {},
   "outputs": [
    {
     "name": "stdout",
     "output_type": "stream",
     "text": [
      "[[1 2 3]\n",
      " [4 5 6]\n",
      " [7 8 9]]\n"
     ]
    }
   ],
   "source": [
    "print(matrix)"
   ]
  },
  {
   "cell_type": "code",
   "execution_count": 9,
   "id": "7fc00739-cdf6-449a-a786-e15dafd845a0",
   "metadata": {},
   "outputs": [],
   "source": [
    "rank = np.linalg.matrix_rank(matrix)"
   ]
  },
  {
   "cell_type": "code",
   "execution_count": 10,
   "id": "771354d9-29e7-4af4-92d9-4b3e43be7724",
   "metadata": {},
   "outputs": [
    {
     "name": "stdout",
     "output_type": "stream",
     "text": [
      "2\n"
     ]
    }
   ],
   "source": [
    "print(rank)"
   ]
  },
  {
   "cell_type": "markdown",
   "id": "3494a470-e2e4-484f-ada7-0a22f40deff3",
   "metadata": {},
   "source": [
    "Check the orthogonality of the given matrix"
   ]
  },
  {
   "cell_type": "code",
   "execution_count": 38,
   "id": "3ee6e37c-f79f-40d0-a3f4-ea318ed1f585",
   "metadata": {},
   "outputs": [],
   "source": [
    "q = np.array([[4, -2, 7],\n",
    "              [-11, 3, 9],\n",
    "              [2, 8, 7]\n",
    "             ])"
   ]
  },
  {
   "cell_type": "code",
   "execution_count": 40,
   "id": "ff777e21-1e84-44fb-b82d-5a08b6da4c67",
   "metadata": {},
   "outputs": [],
   "source": [
    "q_transpose = q.T"
   ]
  },
  {
   "cell_type": "code",
   "execution_count": 42,
   "id": "17824a9b-9f90-49d5-9f78-9b04edef5822",
   "metadata": {},
   "outputs": [],
   "source": [
    "product = np.dot(q, q_transpose)"
   ]
  },
  {
   "cell_type": "code",
   "execution_count": 46,
   "id": "e49aee86-3ccf-445a-8062-35a2398a9c86",
   "metadata": {},
   "outputs": [],
   "source": [
    "identity_matrix = np.eye(3)\n",
    "is_orthogonal = np.allclose(product, identity_matrix)"
   ]
  },
  {
   "cell_type": "code",
   "execution_count": 48,
   "id": "da5ea9ca-217c-45f0-9fc4-048f234cb82f",
   "metadata": {},
   "outputs": [
    {
     "name": "stdout",
     "output_type": "stream",
     "text": [
      "False\n"
     ]
    }
   ],
   "source": [
    "print(is_orthogonal)"
   ]
  },
  {
   "cell_type": "markdown",
   "id": "c21aa3a0-081b-4482-8688-b25a7ed1b7ca",
   "metadata": {},
   "source": [
    "Find the rank of the matrix using logical implementation"
   ]
  },
  {
   "cell_type": "code",
   "execution_count": 50,
   "id": "b4ad84fa-03a3-4586-85f1-2c477b4156a5",
   "metadata": {},
   "outputs": [],
   "source": [
    "a = np.array([[3, 1, 7],\n",
    "              [1, 2, 2],\n",
    "              [9, 3, 4]])"
   ]
  },
  {
   "cell_type": "code",
   "execution_count": 54,
   "id": "f18f0863-cb64-4eba-84b7-2fb2667b99bd",
   "metadata": {},
   "outputs": [],
   "source": [
    "b = np.array([9, 8, 11])"
   ]
  },
  {
   "cell_type": "code",
   "execution_count": 56,
   "id": "c0d84539-4bcc-4ba8-b331-3ddcb19d2a16",
   "metadata": {},
   "outputs": [],
   "source": [
    "x = np.linalg.solve(a, b)"
   ]
  },
  {
   "cell_type": "code",
   "execution_count": 58,
   "id": "f1ec5d91-8a6d-4d0f-81d2-cb8fe531c52a",
   "metadata": {},
   "outputs": [
    {
     "name": "stdout",
     "output_type": "stream",
     "text": [
      "Solution: [-0.25882353  3.18823529  0.94117647]\n"
     ]
    }
   ],
   "source": [
    "print(\"Solution:\", x)"
   ]
  },
  {
   "cell_type": "code",
   "execution_count": 66,
   "id": "f2c5ac32-d6a2-4a15-9591-3bac5e162f6d",
   "metadata": {},
   "outputs": [],
   "source": [
    "matrix = np.array([[2, 4, 2],\n",
    "              [3, 9, 11],\n",
    "              [8, 16, 8]])"
   ]
  },
  {
   "cell_type": "code",
   "execution_count": 80,
   "id": "2f1db87d-ee2f-4478-ae68-1ff8cfe17ce3",
   "metadata": {},
   "outputs": [],
   "source": [
    "def find_rank(matrix):\n",
    "  rows = len(matrix)\n",
    "  if rows == 0:\n",
    "    return 0\n",
    "  cols = len(matrix[0])\n",
    "\n",
    "  rank = min(rows, cols)\n",
    "  for i in range(rank):\n",
    "    if not any(matrix[i][j] for j in range(cols)):\n",
    "      rank -= 1\n",
    "  return rank"
   ]
  },
  {
   "cell_type": "code",
   "execution_count": 94,
   "id": "891f4ad4-a0fb-4fa2-948d-304c9be32ebd",
   "metadata": {},
   "outputs": [],
   "source": [
    "matrix = np.array([[2, 4, 2],[3, 9, 11],[8, 16, 8]])"
   ]
  },
  {
   "cell_type": "code",
   "execution_count": 96,
   "id": "b817e310-8df7-4073-abae-d05fbab47b0a",
   "metadata": {},
   "outputs": [
    {
     "name": "stdout",
     "output_type": "stream",
     "text": [
      "Rank of the matrix: 3\n"
     ]
    }
   ],
   "source": [
    "rank = find_rank(matrix)\n",
    "print(\"Rank of the matrix:\", rank)"
   ]
  },
  {
   "cell_type": "code",
   "execution_count": 98,
   "id": "03d64b52-b9d6-437e-b2da-6ee47aece8ca",
   "metadata": {},
   "outputs": [],
   "source": [
    "matrix_transpose = np.transpose(matrix)"
   ]
  },
  {
   "cell_type": "code",
   "execution_count": 100,
   "id": "0356fc1f-2e2a-46e9-b482-17b48651fd6f",
   "metadata": {},
   "outputs": [
    {
     "name": "stdout",
     "output_type": "stream",
     "text": [
      "Rank of the Matrix:  3\n"
     ]
    }
   ],
   "source": [
    "rank_t = find_rank(matrix_transpose)\n",
    "print(\"Rank of the Matrix: \",rank_t)"
   ]
  },
  {
   "cell_type": "code",
   "execution_count": 102,
   "id": "1c795924-1ec7-4212-80f6-e7292f2f52b7",
   "metadata": {},
   "outputs": [
    {
     "name": "stdout",
     "output_type": "stream",
     "text": [
      "Cosine of the angle between v1 and v2: 0.9746318461970762\n"
     ]
    }
   ],
   "source": [
    "v1 = np.array([1, 2, 3])\n",
    "v2 = np.array([4, 5, 6])\n",
    "\n",
    "dot_product = np.dot(v1, v2)\n",
    "\n",
    "magnitude_v1 = np.linalg.norm(v1)\n",
    "magnitude_v2 = np.linalg.norm(v2)\n",
    "\n",
    "cosine_angle = dot_product / (magnitude_v1 * magnitude_v2)\n",
    "\n",
    "print(\"Cosine of the angle between v1 and v2:\", cosine_angle)\n"
   ]
  },
  {
   "cell_type": "code",
   "execution_count": 111,
   "id": "2d980bea-54d1-4213-afe5-5b2916ef8a01",
   "metadata": {},
   "outputs": [],
   "source": [
    "sine_angle = math.sqrt(1 - (math.pow(cosine_angle,2)))"
   ]
  },
  {
   "cell_type": "code",
   "execution_count": 113,
   "id": "8ad55b82-dce9-4310-b29a-6cfb8ed67d0a",
   "metadata": {},
   "outputs": [
    {
     "name": "stdout",
     "output_type": "stream",
     "text": [
      "0.22381412908589743\n"
     ]
    }
   ],
   "source": [
    "print(sine_angle)"
   ]
  },
  {
   "cell_type": "code",
   "execution_count": 31,
   "id": "e23091f4-8134-44e4-9e21-a5b1693a0a71",
   "metadata": {},
   "outputs": [
    {
     "name": "stdout",
     "output_type": "stream",
     "text": [
      "f(1) = nan\n",
      "Left-hand limit as x -> 1^-: 1\n",
      "Right-hand limit as x -> 1^+: 3\n",
      "The function is NOT continuous at x = 1.\n"
     ]
    }
   ],
   "source": [
    "import sympy as sp\n",
    "\n",
    "# Define the variable\n",
    "x = sp.Symbol('x')\n",
    "\n",
    "# Define the piecewise function\n",
    "f = sp.Piecewise((x**2, x < 1), (2*x + 1, x > 1))\n",
    "\n",
    "# Check f(1)\n",
    "f_at_1 = f.subs(x, 1)\n",
    "\n",
    "# Compute left-hand limit as x approaches 1 from the left (x -> 1^-)\n",
    "left_limit = sp.limit(x**2, x, 1, dir='-')\n",
    "\n",
    "# Compute right-hand limit as x approaches 1 from the right (x -> 1^+)\n",
    "right_limit = sp.limit(2*x + 1, x, 1, dir='+')\n",
    "\n",
    "# Print the results\n",
    "print(f\"f(1) = {f_at_1}\")\n",
    "print(f\"Left-hand limit as x -> 1^-: {left_limit}\")\n",
    "print(f\"Right-hand limit as x -> 1^+: {right_limit}\")\n",
    "\n",
    "# Check if the function is continuous at x = 1\n",
    "if f_at_1 == left_limit == right_limit:\n",
    "    print(\"The function is continuous at x = 1.\")\n",
    "else:\n",
    "    print(\"The function is NOT continuous at x = 1.\")\n"
   ]
  },
  {
   "cell_type": "code",
   "execution_count": 33,
   "id": "93675ca3-15f5-4f01-9a0d-5453fa573fa1",
   "metadata": {},
   "outputs": [
    {
     "data": {
      "image/png": "[encoded data removed]",
      "text/plain": [
       "<Figure size 640x480 with 1 Axes>"
      ]
     },
     "metadata": {},
     "output_type": "display_data"
    }
   ],
   "source": [
    "import numpy as np\n",
    "import matplotlib.pyplot as plt\n",
    "\n",
    "# Define the function\n",
    "def f(x):\n",
    "    return np.piecewise(x, [x < 1, x > 1], [lambda x: x**2, lambda x: 2*x + 1])\n",
    "\n",
    "# Generate a range of x values\n",
    "x_values = np.linspace(-2, 3, 500)\n",
    "\n",
    "# Calculate the corresponding y values for the function\n",
    "y_values = f(x_values)\n",
    "\n",
    "# Plot the function\n",
    "plt.plot(x_values, y_values, label=r'$f(x) = \\{x^2, x < 1; 2x + 1, x \\geq 1\\}$')\n",
    "\n",
    "# Highlight the point at x = 1\n",
    "plt.scatter(1, f(1), color='red', zorder=5)\n",
    "plt.text(1, f(1), f'f(1) = {f(1):.2f}', horizontalalignment='left')\n",
    "\n",
    "# Add labels and title\n",
    "plt.title('Graph of the Piecewise Function')\n",
    "plt.xlabel('x')\n",
    "plt.ylabel('f(x)')\n",
    "plt.grid(True)\n",
    "plt.axvline(1, color='gray', linestyle='--')  # Add a vertical line at x = 1\n",
    "plt.axhline(0, color='black', linewidth=1)    # Add x-axis\n",
    "plt.axvline(0, color='black', linewidth=1)    # Add y-axis\n",
    "\n",
    "# Show the plot\n",
    "plt.legend()\n",
    "plt.show()\n"
   ]
  },
  {
   "cell_type": "code",
   "execution_count": 39,
   "id": "e8d7c687-1c31-43a3-8bb3-7eada538b2e7",
   "metadata": {},
   "outputs": [
    {
     "name": "stdout",
     "output_type": "stream",
     "text": [
      "Calculated delta value: 0.0033333333333333335\n",
      "Does the limit condition hold for epsilon = 0.01? Yes\n"
     ]
    }
   ],
   "source": [
    "epsilon = 0.01\n",
    "\n",
    "delta = epsilon / 3\n",
    "\n",
    "print(f\"Calculated delta value: {delta}\")\n",
    "\n",
    "def f(x):\n",
    "    return 3 * x - 5\n",
    "\n",
    "limit_value = 1\n",
    "\n",
    "x_values = np.linspace(2 - delta, 2 + delta, 1000)\n",
    "\n",
    "condition_holds = True\n",
    "\n",
    "for x in x_values:\n",
    "    if abs(x - 2) < delta:\n",
    "        if abs(f(x) - limit_value) >= epsilon:\n",
    "            condition_holds = False\n",
    "            break\n",
    "\n",
    "print(f\"Does the limit condition hold for epsilon = {epsilon}? {'Yes' if condition_holds else 'No'}\")\n"
   ]
  },
  {
   "cell_type": "code",
   "execution_count": 63,
   "id": "6aa337ab-88bc-4609-862e-8965aa6808fa",
   "metadata": {},
   "outputs": [
    {
     "data": {
      "text/latex": [
       "$\\displaystyle - 6 x \\sin{\\left(3 x^{2} + 1 \\right)} \\cos{\\left(\\cos{\\left(3 x^{2} + 1 \\right)} \\right)}$"
      ],
      "text/plain": [
       "-6*x*sin(3*x**2 + 1)*cos(cos(3*x**2 + 1))"
      ]
     },
     "execution_count": 63,
     "metadata": {},
     "output_type": "execute_result"
    }
   ],
   "source": [
    "from sympy import symbols, sin, cos, diff\n",
    "\n",
    "x = symbols('x')\n",
    "\n",
    "function = sin(cos(3*x**2 + 1))\n",
    "\n",
    "derivative = diff(function, x)\n",
    "\n",
    "s = sp.simplify(derivative)\n",
    "\n",
    "s\n"
   ]
  },
  {
   "cell_type": "code",
   "execution_count": 61,
   "id": "8b7a164d-844a-4648-a7a5-4020a12ccef9",
   "metadata": {},
   "outputs": [
    {
     "data": {
      "text/latex": [
       "$\\displaystyle \\frac{2 \\cdot \\left(1 - x^{2}\\right)}{x^{4} + 2 x^{2} + 1}$"
      ],
      "text/plain": [
       "2*(1 - x**2)/(x**4 + 2*x**2 + 1)"
      ]
     },
     "execution_count": 61,
     "metadata": {},
     "output_type": "execute_result"
    }
   ],
   "source": [
    "import sympy as sp\n",
    "\n",
    "x = sp.Symbol('x')\n",
    "f = sp.ln(x**2 + 1)\n",
    "f_prime = sp.diff(f, x)\n",
    "f_double_prime = sp.diff(f_prime, x)\n",
    "s = sp.simplify(f_double_prime)\n",
    "s"
   ]
  },
  {
   "cell_type": "markdown",
   "id": "2b3f4dde-babd-4ce7-8de8-055b0152ab81",
   "metadata": {},
   "source": [
    "The radius of the circular oil spill increases at 0.1m/s. How fast the area is increasing when the radius is 10 metres"
   ]
  },
  {
   "cell_type": "code",
   "execution_count": 67,
   "id": "9ae59b20-3995-4f0f-aecf-c48e7018d20c",
   "metadata": {},
   "outputs": [
    {
     "data": {
      "text/latex": [
       "$\\displaystyle 2.0 \\pi$"
      ],
      "text/plain": [
       "2.0*pi"
      ]
     },
     "execution_count": 67,
     "metadata": {},
     "output_type": "execute_result"
    }
   ],
   "source": [
    "import sympy as sp\n",
    "\n",
    "r, t = sp.symbols('r t')\n",
    "dr_dt = sp.Symbol('dr_dt')\n",
    "\n",
    "A = sp.pi * r**2\n",
    "\n",
    "dA_dt = sp.diff(A, r) * dr_dt\n",
    "\n",
    "radius_value = 10\n",
    "dr_dt_value = 0.1\n",
    "dA_dt_value = dA_dt.subs({r: radius_value, dr_dt: dr_dt_value})\n",
    "dA_dt_value"
   ]
  },
  {
   "cell_type": "markdown",
   "id": "efc6a6d0-5af9-4d59-899f-4c5cbfd756c9",
   "metadata": {},
   "source": [
    "Approximate the derivative of f(x) = sin x at x = pi/4 using finite difference"
   ]
  },
  {
   "cell_type": "code",
   "execution_count": 87,
   "id": "939383f2-f483-4a4a-9b3e-a7ebf6a05f09",
   "metadata": {},
   "outputs": [
    {
     "data": {
      "text/latex": [
       "$\\displaystyle 0.707106781174762$"
      ],
      "text/plain": [
       "0.707106781174762"
      ]
     },
     "execution_count": 87,
     "metadata": {},
     "output_type": "execute_result"
    }
   ],
   "source": [
    "import sympy as sp\n",
    "\n",
    "x = sp.symbols('x')\n",
    "f = sp.sin(x)\n",
    "\n",
    "x0 = sp.pi / 4\n",
    "h = 1e-5\n",
    "\n",
    "f_prime_approx = (f.subs(x, x0 + h) - f.subs(x, x0 - h)) / (2 * h)\n",
    "\n",
    "f_prime_approx_value = f_prime_approx.evalf()\n",
    "f_prime_approx_value"
   ]
  },
  {
   "cell_type": "markdown",
   "id": "caa1fe63-586a-4ca0-95c5-55ee4cade540",
   "metadata": {},
   "source": [
    "Minimise the cost of the rectangular box with square base and volume 1000 metre cube. The base costs are $5 dollar/m^2 sides $10 dollar/m^2 and top $2"
   ]
  },
  {
   "cell_type": "code",
   "execution_count": 120,
   "id": "3936c283-2718-4829-83ec-ca0b53c7c7a7",
   "metadata": {},
   "outputs": [
    {
     "data": {
      "text/latex": [
       "$\\displaystyle 14 x - \\frac{40000}{x^{2}}$"
      ],
      "text/plain": [
       "14*x - 40000/x**2"
      ]
     },
     "execution_count": 120,
     "metadata": {},
     "output_type": "execute_result"
    }
   ],
   "source": [
    "import sympy as sp\n",
    "\n",
    "# Define the variable\n",
    "x = sp.Symbol('x', positive=True, real=True)\n",
    "\n",
    "V = 1000\n",
    "\n",
    "h = V / x**2\n",
    "cost = 7*x**2 + 40*x*h\n",
    "\n",
    "cost = sp.simplify(cost)\n",
    "\n",
    "derivative = sp.diff(cost, x)\n",
    "ans = sp.simplify(derivative)\n",
    "ans"
   ]
  },
  {
   "cell_type": "code",
   "execution_count": 134,
   "id": "4c5b9aed-d134-4994-9c04-e637b9c1b56c",
   "metadata": {},
   "outputs": [
    {
     "data": {
      "text/plain": [
       "[10*20**(1/3)*7**(2/3)/7]"
      ]
     },
     "execution_count": 134,
     "metadata": {},
     "output_type": "execute_result"
    }
   ],
   "source": [
    "critical_points = sp.solve(derivative, x)\n",
    "critical_points"
   ]
  },
  {
   "cell_type": "code",
   "execution_count": 138,
   "id": "ccdf9541-a279-42a2-8fd6-1996c78b72df",
   "metadata": {},
   "outputs": [
    {
     "data": {
      "text/plain": [
       "[600*350**(1/3)]"
      ]
     },
     "execution_count": 138,
     "metadata": {},
     "output_type": "execute_result"
    }
   ],
   "source": [
    "cost_at_critical_points = [cost.subs(x, cp) for cp in critical_points]\n",
    "cost_at_critical_points"
   ]
  },
  {
   "cell_type": "code",
   "execution_count": 140,
   "id": "b5d8ede3-3d40-45c5-b267-cda269aa4b15",
   "metadata": {},
   "outputs": [
    {
     "data": {
      "text/latex": [
       "$\\displaystyle \\frac{10 \\cdot \\sqrt[3]{20} \\cdot 7^{\\frac{2}{3}}}{7}$"
      ],
      "text/plain": [
       "10*20**(1/3)*7**(2/3)/7"
      ]
     },
     "execution_count": 140,
     "metadata": {},
     "output_type": "execute_result"
    }
   ],
   "source": [
    "optimal_x = critical_points[cost_at_critical_points.index(min_cost)]\n",
    "optimal_x"
   ]
  },
  {
   "cell_type": "code",
   "execution_count": 142,
   "id": "11f72f95-4328-4998-a066-da6620c708be",
   "metadata": {},
   "outputs": [
    {
     "data": {
      "text/latex": [
       "$\\displaystyle \\frac{\\sqrt[3]{980}}{2}$"
      ],
      "text/plain": [
       "980**(1/3)/2"
      ]
     },
     "execution_count": 142,
     "metadata": {},
     "output_type": "execute_result"
    }
   ],
   "source": [
    "optimal_h = V / optimal_x**2\n",
    "optimal_h"
   ]
  },
  {
   "cell_type": "code",
   "execution_count": 146,
   "id": "bca3b74d-bdaa-4e00-8ed1-9630f36d3214",
   "metadata": {},
   "outputs": [
    {
     "data": {
      "text/latex": [
       "$\\displaystyle 600 \\cdot \\sqrt[3]{350}$"
      ],
      "text/plain": [
       "600*350**(1/3)"
      ]
     },
     "execution_count": 146,
     "metadata": {},
     "output_type": "execute_result"
    }
   ],
   "source": [
    "min_cost = min(cost_at_critical_points)\n",
    "min_cost"
   ]
  },
  {
   "cell_type": "code",
   "execution_count": 104,
   "id": "51a0b546-0d7c-46b8-b1c5-0fc5269caf15",
   "metadata": {},
   "outputs": [
    {
     "name": "stdout",
     "output_type": "stream",
     "text": [
      "4228.37923923894\n"
     ]
    }
   ],
   "source": [
    "print(min_cost.evalf())"
   ]
  },
  {
   "cell_type": "markdown",
   "id": "6d30084a-0b1a-40db-95f2-24117916b2f6",
   "metadata": {},
   "source": [
    "Find the area enclosed by the curve y=root x between x = 0 to 4 (Use Trapezoidal Rule and Direct Integration)"
   ]
  },
  {
   "cell_type": "code",
   "execution_count": 2,
   "id": "5fdb8535-8dbf-4836-a926-a16ecdc5781c",
   "metadata": {},
   "outputs": [
    {
     "name": "stdout",
     "output_type": "stream",
     "text": [
      "Area using Trapezoidal Rule: 5.331703576825182\n",
      "Area using Direct Integration: 5.333333333333335\n"
     ]
    }
   ],
   "source": [
    "import numpy as np\n",
    "import scipy.integrate as spi\n",
    "\n",
    "# Function for the curve y = sqrt(x)\n",
    "def f(x):\n",
    "    return np.sqrt(x)\n",
    "\n",
    "# 1. Trapezoidal Rule\n",
    "def trapezoidal_rule(a, b, n):\n",
    "    h = (b - a) / n  # Step size\n",
    "    x = np.linspace(a, b, n+1)  # n+1 points between a and b\n",
    "    y = f(x)\n",
    "    \n",
    "    # Apply trapezoidal formula\n",
    "    area = (h / 2) * (y[0] + 2 * np.sum(y[1:n]) + y[n])\n",
    "    return area\n",
    "\n",
    "# 2. Direct Integration using scipy\n",
    "def direct_integration():\n",
    "    area, error = spi.quad(f, 0, 4)  # Integrate y=sqrt(x) from 0 to 4\n",
    "    return area\n",
    "\n",
    "# Parameters\n",
    "a = 0  # Lower limit of x\n",
    "b = 4  # Upper limit of x\n",
    "n = 100  # Number of trapezoids\n",
    "\n",
    "# Compute areas\n",
    "trapezoidal_area = trapezoidal_rule(a, b, n)\n",
    "direct_area = direct_integration()\n",
    "\n",
    "# Output the results\n",
    "print(f\"Area using Trapezoidal Rule: {trapezoidal_area}\")\n",
    "print(f\"Area using Direct Integration: {direct_area}\")\n"
   ]
  },
  {
   "cell_type": "markdown",
   "id": "30ec200b-0b66-4b2d-8893-39ccd4077d3e",
   "metadata": {},
   "source": [
    "Find the volume of a solid obtained by rotating y = x^2 around the x axis between x = 0 to 2"
   ]
  },
  {
   "cell_type": "code",
   "execution_count": 10,
   "id": "6e8e9900-7808-4e2e-9375-b2535daac943",
   "metadata": {},
   "outputs": [
    {
     "name": "stdout",
     "output_type": "stream",
     "text": [
      "Volume of the solid: 20.10619\n"
     ]
    }
   ],
   "source": [
    "import numpy as np\n",
    "import scipy.integrate as spi\n",
    "\n",
    "# Function for the curve y = x^2\n",
    "def f(x):\n",
    "    return x**2\n",
    "\n",
    "# Volume of revolution using Disk Method\n",
    "def volume_of_revolution(a, b):\n",
    "    volume, error = spi.quad(lambda x: np.pi * (f(x)**2), a, b)\n",
    "    return volume\n",
    "\n",
    "# Limits of integration\n",
    "a = 0  # Lower limit of x\n",
    "b = 2  # Upper limit of x\n",
    "\n",
    "# Compute volume\n",
    "volume = volume_of_revolution(a, b)\n",
    "\n",
    "# Output the result\n",
    "print(f\"Volume of the solid: {volume:.5f}\")"
   ]
  },
  {
   "cell_type": "markdown",
   "id": "dba33de4-4016-4011-91e9-f2526848091e",
   "metadata": {},
   "source": [
    "Approximate the integral of cos x from 0 to π/2 using the Trapezoidal Rule"
   ]
  },
  {
   "cell_type": "code",
   "execution_count": 13,
   "id": "33a096bc-e0b1-41f5-9e16-7fe0f51bbf99",
   "metadata": {},
   "outputs": [
    {
     "name": "stdout",
     "output_type": "stream",
     "text": [
      "Approximate area using Trapezoidal Rule: 0.9999794382396074\n"
     ]
    }
   ],
   "source": [
    "import numpy as np\n",
    "\n",
    "def f(x):\n",
    "    return np.cos(x)\n",
    "\n",
    "def trapezoidal_rule(a, b, n):\n",
    "    h = (b - a) / n  \n",
    "    x = np.linspace(a, b, n+1)  \n",
    "    y = f(x)\n",
    "    \n",
    "    area = (h / 2) * (y[0] + 2 * np.sum(y[1:n]) + y[n])\n",
    "    return area\n",
    "    \n",
    "a = 0  \n",
    "b = np.pi / 2  \n",
    "n = 100  \n",
    "\n",
    "trapezoidal_area = trapezoidal_rule(a, b, n)\n",
    "\n",
    "print(f\"Approximate area using Trapezoidal Rule: {trapezoidal_area}\")"
   ]
  },
  {
   "cell_type": "markdown",
   "id": "0f1f5df1-cbe1-48b2-8bc5-7ed64bde0ff2",
   "metadata": {},
   "source": [
    "Find the arc length of the Curve f(x) = sin x from x = 0 to π using finite differences"
   ]
  },
  {
   "cell_type": "code",
   "execution_count": 16,
   "id": "552742f9-8e68-4f89-b80f-19753b7dd963",
   "metadata": {},
   "outputs": [
    {
     "name": "stdout",
     "output_type": "stream",
     "text": [
      "Approximate arc length using finite differences: 3.82020\n"
     ]
    }
   ],
   "source": [
    "import numpy as np\n",
    "\n",
    "def f(x):\n",
    "    return np.sin(x)\n",
    "\n",
    "def arc_length(a, b, n):\n",
    "    x = np.linspace(a, b, n+1)  # n+1 points between a and b\n",
    "    y = f(x)\n",
    "    \n",
    "    # Calculate finite differences for dy/dx\n",
    "    dx = (b - a) / n\n",
    "    dy_dx = np.diff(y) / dx\n",
    "    \n",
    "    # Calculate the arc length\n",
    "    length = np.sum(np.sqrt(1 + dy_dx**2)) * dx\n",
    "    return length\n",
    "\n",
    "# Parameters\n",
    "a = 0          # Lower limit of x\n",
    "b = np.pi      # Upper limit of x\n",
    "n = 1000       # Number of subintervals\n",
    "\n",
    "# Compute arc length\n",
    "arc_len = arc_length(a, b, n)\n",
    "\n",
    "# Output the result\n",
    "print(f\"Approximate arc length using finite differences: {arc_len:.5f}\")\n"
   ]
  },
  {
   "cell_type": "markdown",
   "id": "5d11c031-b3d3-488d-8735-1eabb8816103",
   "metadata": {},
   "source": [
    "Verify the fundamental theorem of Calculus for the function f(x) = 3x^2… Find both derivatives and anti derivatives and confirm their match"
   ]
  },
  {
   "cell_type": "code",
   "execution_count": null,
   "id": "e849b4de-a286-40b8-8f23-67b05b94e878",
   "metadata": {},
   "outputs": [],
   "source": []
  }
 ],
 "metadata": {
  "kernelspec": {
   "display_name": "Python 3 (ipykernel)",
   "language": "python",
   "name": "python3"
  },
  "language_info": {
   "codemirror_mode": {
    "name": "ipython",
    "version": 3
   },
   "file_extension": ".py",
   "mimetype": "text/x-python",
   "name": "python",
   "nbconvert_exporter": "python",
   "pygments_lexer": "ipython3",
   "version": "3.12.4"
  }
 },
 "nbformat": 4,
 "nbformat_minor": 5
}
