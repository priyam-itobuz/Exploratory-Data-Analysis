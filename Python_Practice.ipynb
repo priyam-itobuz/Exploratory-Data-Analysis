{
 "cells": [
  {
   "cell_type": "markdown",
   "id": "a3b7dcb6-2ac6-4b53-8691-bdfd937ac30c",
   "metadata": {},
   "source": [
    "## PYTHON BASICS:"
   ]
  },
  {
   "cell_type": "markdown",
   "id": "b26cf3b9-455d-462f-8264-b1798721dfbd",
   "metadata": {},
   "source": [
    "***1. Python Fundamentals: Variables, Data Types, String Manipulation & Formatting, List Comprehensions***"
   ]
  },
  {
   "cell_type": "code",
   "execution_count": 3,
   "id": "c9f9eed0-6b30-4122-8e3e-dcb51af8ab4c",
   "metadata": {},
   "outputs": [
    {
     "name": "stdout",
     "output_type": "stream",
     "text": [
      "Hello, John\n",
      "My name is John, and I am 30 years old.\n",
      "[1, 4, 9, 16, 25]\n"
     ]
    }
   ],
   "source": [
    "# Variables and Data Types\n",
    "name = \"John\"  # String\n",
    "age = 30       # Integer\n",
    "height = 5.9   # Float\n",
    "is_student = False  # Boolean\n",
    "\n",
    "# String Manipulation\n",
    "greeting = \"Hello, \" + name\n",
    "formatted_greeting = f\"My name is {name}, and I am {age} years old.\"\n",
    "\n",
    "# List Comprehensions\n",
    "numbers = [1, 2, 3, 4, 5]\n",
    "squared_numbers = [x**2 for x in numbers]  # Squaring each element in the list\n",
    "\n",
    "print(greeting)\n",
    "print(formatted_greeting)\n",
    "print(squared_numbers)\n"
   ]
  },
  {
   "cell_type": "markdown",
   "id": "9c3e51c3-e4f8-4686-9c16-ea8dac8d90ac",
   "metadata": {},
   "source": [
    "***2. Control Structures and Functions: Conditional Statements, Loops, Function Definition, Lambda Functions, Recursion***"
   ]
  },
  {
   "cell_type": "code",
   "execution_count": 6,
   "id": "15fe9f20-09a5-4611-a004-52e60a36dae1",
   "metadata": {},
   "outputs": [
    {
     "name": "stdout",
     "output_type": "stream",
     "text": [
      "John is an adult.\n",
      "1\n",
      "2\n",
      "3\n",
      "4\n",
      "5\n",
      "120\n",
      "12\n"
     ]
    }
   ],
   "source": [
    "# Conditional Statements\n",
    "if age > 18:\n",
    "    print(f\"{name} is an adult.\")\n",
    "else:\n",
    "    print(f\"{name} is a minor.\")\n",
    "\n",
    "# Loops\n",
    "for num in numbers:\n",
    "    print(num)\n",
    "\n",
    "while age > 0:\n",
    "    age -= 1  # Decreasing age in each iteration\n",
    "\n",
    "# Function Definition\n",
    "def factorial(n):\n",
    "    if n == 0 or n == 1:\n",
    "        return 1\n",
    "    else:\n",
    "        return n * factorial(n-1)  # Recursion\n",
    "\n",
    "print(factorial(5))  # Testing recursion\n",
    "\n",
    "# Lambda Function\n",
    "multiply = lambda x, y: x * y\n",
    "print(multiply(3, 4))  # Testing lambda function\n"
   ]
  },
  {
   "cell_type": "markdown",
   "id": "a0d4e637-7c90-42df-9d05-cd73d26b85dd",
   "metadata": {},
   "source": [
    "***3. Modules and Exception Handling: Importing & Using Modules, Creating Custom Modules, Exception Handling (try, except, finally)***"
   ]
  },
  {
   "cell_type": "code",
   "execution_count": 9,
   "id": "16aacd3a-0cca-4ee9-b0f7-b7379e8e0699",
   "metadata": {},
   "outputs": [
    {
     "name": "stdout",
     "output_type": "stream",
     "text": [
      "4.0\n"
     ]
    },
    {
     "name": "stdin",
     "output_type": "stream",
     "text": [
      "Enter a number:  0\n"
     ]
    },
    {
     "name": "stdout",
     "output_type": "stream",
     "text": [
      "Cannot divide by zero!\n",
      "Execution finished.\n"
     ]
    }
   ],
   "source": [
    "# Importing a Module\n",
    "import math\n",
    "\n",
    "print(math.sqrt(16))  # Using a function from the math module\n",
    "\n",
    "# Creating Custom Modules (save this as a separate file, e.g., `custom_module.py`)\n",
    "# def greet_user(name):\n",
    "#     return f\"Hello, {name}!\"\n",
    "\n",
    "# Exception Handling\n",
    "try:\n",
    "    num = int(input(\"Enter a number: \"))\n",
    "    result = 10 / num\n",
    "except ValueError:\n",
    "    print(\"Invalid input! Please enter a number.\")\n",
    "except ZeroDivisionError:\n",
    "    print(\"Cannot divide by zero!\")\n",
    "finally:\n",
    "    print(\"Execution finished.\")\n",
    "\n",
    "# Example of using the custom module (in another file):\n",
    "# from custom_module import greet_user\n",
    "# print(greet_user(\"John\"))\n"
   ]
  },
  {
   "cell_type": "markdown",
   "id": "a22263e0-9da1-4914-b9ea-07be006daf2c",
   "metadata": {},
   "source": [
    "## DATA STRUCTURES AND ALGORITHMS IN PYTHON"
   ]
  },
  {
   "cell_type": "markdown",
   "id": "52c604af-8c0c-4ffd-8169-73ec708dc6c4",
   "metadata": {},
   "source": [
    "***1. Built-in Data Structures: Lists, Tuples, Sets, Dictionaries***"
   ]
  },
  {
   "cell_type": "code",
   "execution_count": 14,
   "id": "0e8d6e81-eebd-426e-ae1a-d6a071ae45b7",
   "metadata": {},
   "outputs": [
    {
     "name": "stdout",
     "output_type": "stream",
     "text": [
      "20\n",
      "[1, 4, 9, 16, 25, 36] [2, 4, 6] 21\n"
     ]
    }
   ],
   "source": [
    "# Lists: Operations, Slicing, Methods\n",
    "my_list = [1, 2, 3, 4, 5]\n",
    "my_list.append(6)  # Add element to the end\n",
    "sliced_list = my_list[1:4]  # Slicing from index 1 to 3\n",
    "\n",
    "# Tuples: Immutable lists\n",
    "my_tuple = (10, 20, 30)\n",
    "print(my_tuple[1])  # Accessing elements\n",
    "\n",
    "# Sets: No duplicates, unordered\n",
    "my_set = {1, 2, 3, 3, 4}  # Duplicate \"3\" will be removed\n",
    "my_set.add(5)  # Add element to the set\n",
    "\n",
    "# Dictionaries: Key-value pairs\n",
    "my_dict = {\"name\": \"Alice\", \"age\": 25}\n",
    "my_dict[\"city\"] = \"New York\"  # Adding a new key-value pair\n",
    "age = my_dict.get(\"age\")  # Accessing value by key\n",
    "\n",
    "# Advanced operations: map, filter, reduce\n",
    "from functools import reduce\n",
    "\n",
    "# Map: Applying a function to each item in a list\n",
    "squared = list(map(lambda x: x**2, my_list))\n",
    "\n",
    "# Filter: Filtering out even numbers\n",
    "evens = list(filter(lambda x: x % 2 == 0, my_list))\n",
    "\n",
    "# Reduce: Summing all numbers in the list\n",
    "sum_all = reduce(lambda x, y: x + y, my_list)\n",
    "\n",
    "print(squared, evens, sum_all)\n"
   ]
  },
  {
   "cell_type": "markdown",
   "id": "c172b0e2-5566-44f1-953f-df149d366f3f",
   "metadata": {},
   "source": [
    "***2. Custom Data Structures: Stacks, Queues, Linked Lists, Trees, Graphs***"
   ]
  },
  {
   "cell_type": "code",
   "execution_count": 17,
   "id": "e1b07f47-6bcc-4b4c-aaed-606087261450",
   "metadata": {},
   "outputs": [
    {
     "name": "stdout",
     "output_type": "stream",
     "text": [
      "1 -> 2 -> 3 -> None\n",
      "4 8 12 20 22 "
     ]
    }
   ],
   "source": [
    "# Stack: Last-in, First-out (LIFO) using list\n",
    "stack = []\n",
    "stack.append(1)  # Push\n",
    "stack.append(2)\n",
    "stack.append(3)\n",
    "stack.pop()      # Pop (remove last element)\n",
    "\n",
    "# Queue: First-in, First-out (FIFO) using collections.deque\n",
    "from collections import deque\n",
    "\n",
    "queue = deque([1, 2, 3])\n",
    "queue.append(4)  # Enqueue\n",
    "queue.popleft()  # Dequeue\n",
    "\n",
    "# Singly Linked List\n",
    "class Node:\n",
    "    def __init__(self, data):\n",
    "        self.data = data\n",
    "        self.next = None\n",
    "\n",
    "class LinkedList:\n",
    "    def __init__(self):\n",
    "        self.head = None\n",
    "\n",
    "    def append(self, data):\n",
    "        new_node = Node(data)\n",
    "        if not self.head:\n",
    "            self.head = new_node\n",
    "        else:\n",
    "            current = self.head\n",
    "            while current.next:\n",
    "                current = current.next\n",
    "            current.next = new_node\n",
    "\n",
    "    def print_list(self):\n",
    "        current = self.head\n",
    "        while current:\n",
    "            print(current.data, end=\" -> \")\n",
    "            current = current.next\n",
    "        print(\"None\")\n",
    "\n",
    "ll = LinkedList()\n",
    "ll.append(1)\n",
    "ll.append(2)\n",
    "ll.append(3)\n",
    "ll.print_list()\n",
    "\n",
    "# Binary Search Tree (BST)\n",
    "class TreeNode:\n",
    "    def __init__(self, value):\n",
    "        self.value = value\n",
    "        self.left = None\n",
    "        self.right = None\n",
    "\n",
    "def insert(root, key):\n",
    "    if root is None:\n",
    "        return TreeNode(key)\n",
    "    if key < root.value:\n",
    "        root.left = insert(root.left, key)\n",
    "    else:\n",
    "        root.right = insert(root.right, key)\n",
    "    return root\n",
    "\n",
    "def inorder_traversal(root):\n",
    "    if root:\n",
    "        inorder_traversal(root.left)\n",
    "        print(root.value, end=\" \")\n",
    "        inorder_traversal(root.right)\n",
    "\n",
    "root = None\n",
    "keys = [20, 8, 22, 4, 12]\n",
    "for key in keys:\n",
    "    root = insert(root, key)\n",
    "\n",
    "inorder_traversal(root)  # Should print: 4 8 12 20 22\n"
   ]
  },
  {
   "cell_type": "markdown",
   "id": "e0828b45-55f1-40ce-9a00-861c92f4a762",
   "metadata": {},
   "source": [
    "***3. Searching and Sorting Algorithms: Linear Search, Binary Search, Bubble Sort, Quick Sort, Merge Sort, and Complexity Analysis***"
   ]
  },
  {
   "cell_type": "code",
   "execution_count": 20,
   "id": "b5b6f5cd-4607-4c66-b242-bd07e32040cf",
   "metadata": {},
   "outputs": [
    {
     "name": "stdout",
     "output_type": "stream",
     "text": [
      "Bubble Sorted: [11, 12, 22, 25, 34, 64, 90]\n",
      "Quick Sorted: [1, 5, 7, 8, 9, 10]\n",
      "Merge Sorted: [5, 6, 7, 11, 12, 13]\n",
      "Linear Search for 10: 3\n",
      "Binary Search for 10: 3\n"
     ]
    }
   ],
   "source": [
    "# Linear Search\n",
    "def linear_search(arr, target):\n",
    "    for i in range(len(arr)):\n",
    "        if arr[i] == target:\n",
    "            return i\n",
    "    return -1\n",
    "\n",
    "# Binary Search (requires sorted list)\n",
    "def binary_search(arr, target):\n",
    "    low = 0\n",
    "    high = len(arr) - 1\n",
    "    while low <= high:\n",
    "        mid = (low + high) // 2\n",
    "        if arr[mid] == target:\n",
    "            return mid\n",
    "        elif arr[mid] < target:\n",
    "            low = mid + 1\n",
    "        else:\n",
    "            high = mid - 1\n",
    "    return -1\n",
    "\n",
    "# Sorting Algorithms: Bubble Sort\n",
    "def bubble_sort(arr):\n",
    "    n = len(arr)\n",
    "    for i in range(n):\n",
    "        for j in range(0, n-i-1):\n",
    "            if arr[j] > arr[j+1]:\n",
    "                arr[j], arr[j+1] = arr[j+1], arr[j]\n",
    "\n",
    "# Quick Sort\n",
    "def quick_sort(arr):\n",
    "    if len(arr) <= 1:\n",
    "        return arr\n",
    "    pivot = arr[len(arr) // 2]\n",
    "    left = [x for x in arr if x < pivot]\n",
    "    middle = [x for x in arr if x == pivot]\n",
    "    right = [x for x in arr if x > pivot]\n",
    "    return quick_sort(left) + middle + quick_sort(right)\n",
    "\n",
    "# Merge Sort\n",
    "def merge_sort(arr):\n",
    "    if len(arr) > 1:\n",
    "        mid = len(arr) // 2\n",
    "        left_half = arr[:mid]\n",
    "        right_half = arr[mid:]\n",
    "\n",
    "        merge_sort(left_half)\n",
    "        merge_sort(right_half)\n",
    "\n",
    "        i = j = k = 0\n",
    "        while i < len(left_half) and j < len(right_half):\n",
    "            if left_half[i] < right_half[j]:\n",
    "                arr[k] = left_half[i]\n",
    "                i += 1\n",
    "            else:\n",
    "                arr[k] = right_half[j]\n",
    "                j += 1\n",
    "            k += 1\n",
    "\n",
    "        while i < len(left_half):\n",
    "            arr[k] = left_half[i]\n",
    "            i += 1\n",
    "            k += 1\n",
    "\n",
    "        while j < len(right_half):\n",
    "            arr[k] = right_half[j]\n",
    "            j += 1\n",
    "            k += 1\n",
    "\n",
    "# Testing Sorting and Searching\n",
    "arr = [64, 34, 25, 12, 22, 11, 90]\n",
    "bubble_sort(arr)\n",
    "print(f\"Bubble Sorted: {arr}\")\n",
    "\n",
    "arr2 = [10, 7, 8, 9, 1, 5]\n",
    "print(f\"Quick Sorted: {quick_sort(arr2)}\")\n",
    "\n",
    "arr3 = [12, 11, 13, 5, 6, 7]\n",
    "merge_sort(arr3)\n",
    "print(f\"Merge Sorted: {arr3}\")\n",
    "\n",
    "# Searching\n",
    "arr4 = [2, 3, 4, 10, 40]\n",
    "print(f\"Linear Search for 10: {linear_search(arr4, 10)}\")\n",
    "print(f\"Binary Search for 10: {binary_search(arr4, 10)}\")\n"
   ]
  },
  {
   "cell_type": "markdown",
   "id": "11fbfb5b-6b33-465b-8f72-2465b93150f2",
   "metadata": {},
   "source": [
    "## PYTHON FOR DATA SCIENCE"
   ]
  },
  {
   "cell_type": "markdown",
   "id": "c8ee7897-17ac-4416-93fd-6a9b92ec10e7",
   "metadata": {},
   "source": [
    "***1. NumPy for Numerical Computing***"
   ]
  },
  {
   "cell_type": "code",
   "execution_count": 24,
   "id": "7d5ef223-1127-4c94-9b10-d5f714588efa",
   "metadata": {},
   "outputs": [
    {
     "name": "stdout",
     "output_type": "stream",
     "text": [
      "Array with broadcasting: [11 12 13 14 15]\n",
      "Array slice: [2 3 4]\n",
      "Dot product: 35\n",
      "Random array:\n",
      "[[0.07381751 0.94146201 0.20380457]\n",
      " [0.36383128 0.764651   0.09863056]\n",
      " [0.39698562 0.86139075 0.08808311]]\n"
     ]
    }
   ],
   "source": [
    "import numpy as np\n",
    "\n",
    "# Creating a NumPy array and performing operations\n",
    "arr = np.array([1, 2, 3, 4, 5])\n",
    "\n",
    "# Broadcasting: Adding a scalar to every element\n",
    "arr_plus_10 = arr + 10\n",
    "\n",
    "# Array indexing and slicing\n",
    "arr_slice = arr[1:4]  # Elements from index 1 to 3\n",
    "\n",
    "# Linear algebra operations: Dot product of two arrays\n",
    "arr2 = np.array([5, 4, 3, 2, 1])\n",
    "dot_product = np.dot(arr, arr2)\n",
    "\n",
    "# Random number generation\n",
    "random_array = np.random.rand(3, 3)  # 3x3 matrix with random values\n",
    "\n",
    "print(f\"Array with broadcasting: {arr_plus_10}\")\n",
    "print(f\"Array slice: {arr_slice}\")\n",
    "print(f\"Dot product: {dot_product}\")\n",
    "print(f\"Random array:\\n{random_array}\")"
   ]
  },
  {
   "cell_type": "markdown",
   "id": "26b05be3-8930-4dd0-b650-6351b859ae01",
   "metadata": {},
   "source": [
    "***2. Pandas for Data Manipulation***"
   ]
  },
  {
   "cell_type": "code",
   "execution_count": 27,
   "id": "9abafd97-93ab-4ddb-964e-8306006dc4e2",
   "metadata": {},
   "outputs": [
    {
     "name": "stdout",
     "output_type": "stream",
     "text": [
      "Original DataFrame:\n",
      "      Name  Age         City  Salary\n",
      "0    Alice   25     New York   70000\n",
      "1      Bob   30  Los Angeles   80000\n",
      "2  Charlie   35      Chicago   90000\n",
      "3    David   40      Houston  100000\n",
      "Loaded DataFrame from CSV:\n",
      "      Name  Age         City  Salary\n",
      "0    Alice   25     New York   70000\n",
      "1      Bob   30  Los Angeles   80000\n",
      "2  Charlie   35      Chicago   90000\n",
      "3    David   40      Houston  100000\n",
      "DataFrame with NaN filled:\n",
      "    Name   Age\n",
      "0    Eve  34.5\n",
      "1  Frank  31.0\n",
      "2  Grace  38.0\n",
      "Grouped by City (Average Salary):\n",
      "City\n",
      "Chicago         90000.0\n",
      "Houston        100000.0\n",
      "Los Angeles     80000.0\n",
      "New York        70000.0\n",
      "Name: Salary, dtype: float64\n",
      "Merged DataFrame:\n",
      "      Name  Age         City  Salary Department\n",
      "0    Alice   25     New York   70000         HR\n",
      "1      Bob   30  Los Angeles   80000         IT\n",
      "2  Charlie   35      Chicago   90000    Finance\n",
      "3    David   40      Houston  100000  Marketing\n"
     ]
    }
   ],
   "source": [
    "import pandas as pd\n",
    "\n",
    "# Creating a Pandas DataFrame\n",
    "data = {\n",
    "    'Name': ['Alice', 'Bob', 'Charlie', 'David'],\n",
    "    'Age': [25, 30, 35, 40],\n",
    "    'City': ['New York', 'Los Angeles', 'Chicago', 'Houston'],\n",
    "    'Salary': [70000, 80000, 90000, 100000]\n",
    "}\n",
    "\n",
    "df = pd.DataFrame(data)\n",
    "\n",
    "# Data loading and saving (to/from CSV)\n",
    "df.to_csv('employees.csv', index=False)  # Saving DataFrame to CSV\n",
    "loaded_df = pd.read_csv('employees.csv')  # Loading from CSV\n",
    "\n",
    "# Data cleaning: Filling missing values\n",
    "df_with_nan = pd.DataFrame({\n",
    "    'Name': ['Eve', 'Frank', 'Grace'],\n",
    "    'Age': [np.nan, 31, 38]\n",
    "})\n",
    "df_with_nan['Age'] = df_with_nan['Age'].fillna(df_with_nan['Age'].mean())\n",
    "\n",
    "# Grouping and aggregation: Group by 'City' and calculate average salary\n",
    "grouped = df.groupby('City')['Salary'].mean()\n",
    "\n",
    "# Merging and joining datasets\n",
    "df2 = pd.DataFrame({\n",
    "    'Name': ['Alice', 'Bob', 'Charlie', 'David'],\n",
    "    'Department': ['HR', 'IT', 'Finance', 'Marketing']\n",
    "})\n",
    "merged_df = pd.merge(df, df2, on='Name')\n",
    "\n",
    "print(f\"Original DataFrame:\\n{df}\")\n",
    "print(f\"Loaded DataFrame from CSV:\\n{loaded_df}\")\n",
    "print(f\"DataFrame with NaN filled:\\n{df_with_nan}\")\n",
    "print(f\"Grouped by City (Average Salary):\\n{grouped}\")\n",
    "print(f\"Merged DataFrame:\\n{merged_df}\")"
   ]
  },
  {
   "cell_type": "markdown",
   "id": "142a35a9-4074-43a7-a4fc-26a4f3e72b78",
   "metadata": {},
   "source": [
    "***3. Data Visualization: Matplotlib, Seaborn, and Plotly***"
   ]
  },
  {
   "cell_type": "code",
   "execution_count": 34,
   "id": "01feac65-a4ac-40a6-9674-4a22d8658d51",
   "metadata": {},
   "outputs": [
    {
     "data": {
      "image/png": "[encoded data removed]",
      "text/plain": [
       "<Figure size 640x480 with 1 Axes>"
      ]
     },
     "metadata": {},
     "output_type": "display_data"
    },
    {
     "data": {
      "image/png": "[encoded data removed]",
      "text/plain": [
       "<Figure size 640x480 with 1 Axes>"
      ]
     },
     "metadata": {},
     "output_type": "display_data"
    },
    {
     "data": {
      "application/vnd.plotly.v1+json": {
       "config": {
        "plotlyServerURL": "https://plot.ly"
       },
       "data": [
        {
         "hovertemplate": "sex=Female<br>total_bill=%{x}<br>tip=%{y}<extra></extra>",
         "legendgroup": "Female",
         "marker": {
          "color": "#636efa",
          "symbol": "circle"
         },
         "mode": "markers",
         "name": "Female",
         "orientation": "v",
         "showlegend": true,
         "type": "scatter",
         "x": [
          16.99,
          24.59,
          35.26,
          14.83,
          10.33,
          16.97,
          20.29,
          15.77,
          19.65,
          15.06,
          20.69,
          16.93,
          10.29,
          34.81,
          26.41,
          16.45,
          3.07,
          17.07,
          26.86,
          25.28,
          14.73,
          10.07,
          34.83,
          5.75,
          16.32,
          22.75,
          11.35,
          15.38,
          44.3,
          22.42,
          20.92,
          14.31,
          7.25,
          25.71,
          17.31,
          10.65,
          12.43,
          24.08,
          13.42,
          12.48,
          29.8,
          14.52,
          11.38,
          20.27,
          11.17,
          12.26,
          18.26,
          8.51,
          10.33,
          14.15,
          13.16,
          17.47,
          27.05,
          16.43,
          8.35,
          18.64,
          11.87,
          29.85,
          25,
          13.39,
          16.21,
          17.51,
          10.59,
          10.63,
          9.6,
          20.9,
          18.15,
          19.81,
          43.11,
          13,
          12.74,
          13,
          16.4,
          16.47,
          12.76,
          13.27,
          28.17,
          12.9,
          30.14,
          13.42,
          15.98,
          16.27,
          10.09,
          22.12,
          35.83,
          27.18,
          18.78
         ],
         "xaxis": "x",
         "y": [
          1.01,
          3.61,
          5,
          3.02,
          1.67,
          3.5,
          2.75,
          2.23,
          3,
          3,
          2.45,
          3.07,
          2.6,
          5.2,
          1.5,
          2.47,
          1,
          3,
          3.14,
          5,
          2.2,
          1.83,
          5.17,
          1,
          4.3,
          3.25,
          2.5,
          3,
          2.5,
          3.48,
          4.08,
          4,
          1,
          4,
          3.5,
          1.5,
          1.8,
          2.92,
          1.68,
          2.52,
          4.2,
          2,
          2,
          2.83,
          1.5,
          2,
          3.25,
          1.25,
          2,
          2,
          2.75,
          3.5,
          5,
          2.3,
          1.5,
          1.36,
          1.63,
          5.14,
          3.75,
          2.61,
          2,
          3,
          1.61,
          2,
          4,
          3.5,
          3.5,
          4.19,
          5,
          2,
          2.01,
          2,
          2.5,
          3.23,
          2.23,
          2.5,
          6.5,
          1.1,
          3.09,
          3.48,
          3,
          2.5,
          2,
          2.88,
          4.67,
          2,
          3
         ],
         "yaxis": "y"
        },
        {
         "hovertemplate": "sex=Male<br>total_bill=%{x}<br>tip=%{y}<extra></extra>",
         "legendgroup": "Male",
         "marker": {
          "color": "#EF553B",
          "symbol": "circle"
         },
         "mode": "markers",
         "name": "Male",
         "orientation": "v",
         "showlegend": true,
         "type": "scatter",
         "x": [
          10.34,
          21.01,
          23.68,
          25.29,
          8.77,
          26.88,
          15.04,
          14.78,
          10.27,
          15.42,
          18.43,
          21.58,
          16.29,
          20.65,
          17.92,
          39.42,
          19.82,
          17.81,
          13.37,
          12.69,
          21.7,
          9.55,
          18.35,
          17.78,
          24.06,
          16.31,
          18.69,
          31.27,
          16.04,
          17.46,
          13.94,
          9.68,
          30.4,
          18.29,
          22.23,
          32.4,
          28.55,
          18.04,
          12.54,
          9.94,
          25.56,
          19.49,
          38.01,
          11.24,
          48.27,
          20.29,
          13.81,
          11.02,
          18.29,
          17.59,
          20.08,
          20.23,
          15.01,
          12.02,
          10.51,
          17.92,
          27.2,
          22.76,
          17.29,
          19.44,
          16.66,
          32.68,
          15.98,
          13.03,
          18.28,
          24.71,
          21.16,
          28.97,
          22.49,
          40.17,
          27.28,
          12.03,
          21.01,
          12.46,
          15.36,
          20.49,
          25.21,
          18.24,
          14,
          38.07,
          23.95,
          29.93,
          11.69,
          14.26,
          15.95,
          8.52,
          22.82,
          19.08,
          16,
          34.3,
          41.19,
          9.78,
          7.51,
          14.07,
          13.13,
          17.26,
          24.55,
          19.77,
          48.17,
          16.49,
          21.5,
          12.66,
          13.81,
          24.52,
          20.76,
          31.71,
          50.81,
          15.81,
          7.25,
          31.85,
          16.82,
          32.9,
          17.89,
          14.48,
          34.63,
          34.65,
          23.33,
          45.35,
          23.17,
          40.55,
          20.69,
          30.46,
          23.1,
          15.69,
          28.44,
          15.48,
          16.58,
          7.56,
          10.34,
          13.51,
          18.71,
          20.53,
          26.59,
          38.73,
          24.27,
          30.06,
          25.89,
          48.33,
          28.15,
          11.59,
          7.74,
          12.16,
          8.58,
          13.42,
          20.45,
          13.28,
          24.01,
          15.69,
          11.61,
          10.77,
          15.53,
          10.07,
          12.6,
          32.83,
          29.03,
          22.67,
          17.82
         ],
         "xaxis": "x",
         "y": [
          1.66,
          3.5,
          3.31,
          4.71,
          2,
          3.12,
          1.96,
          3.23,
          1.71,
          1.57,
          3,
          3.92,
          3.71,
          3.35,
          4.08,
          7.58,
          3.18,
          2.34,
          2,
          2,
          4.3,
          1.45,
          2.5,
          3.27,
          3.6,
          2,
          2.31,
          5,
          2.24,
          2.54,
          3.06,
          1.32,
          5.6,
          3,
          5,
          6,
          2.05,
          3,
          2.5,
          1.56,
          4.34,
          3.51,
          3,
          1.76,
          6.73,
          3.21,
          2,
          1.98,
          3.76,
          2.64,
          3.15,
          2.01,
          2.09,
          1.97,
          1.25,
          3.08,
          4,
          3,
          2.71,
          3,
          3.4,
          5,
          2.03,
          2,
          4,
          5.85,
          3,
          3,
          3.5,
          4.73,
          4,
          1.5,
          3,
          1.5,
          1.64,
          4.06,
          4.29,
          3.76,
          3,
          4,
          2.55,
          5.07,
          2.31,
          2.5,
          2,
          1.48,
          2.18,
          1.5,
          2,
          6.7,
          5,
          1.73,
          2,
          2.5,
          2,
          2.74,
          2,
          2,
          5,
          2,
          3.5,
          2.5,
          2,
          3.48,
          2.24,
          4.5,
          10,
          3.16,
          5.15,
          3.18,
          4,
          3.11,
          2,
          2,
          3.55,
          3.68,
          5.65,
          3.5,
          6.5,
          3,
          5,
          2,
          4,
          1.5,
          2.56,
          2.02,
          4,
          1.44,
          2,
          2,
          4,
          4,
          3.41,
          3,
          2.03,
          2,
          5.16,
          9,
          3,
          1.5,
          1.44,
          2.2,
          1.92,
          1.58,
          3,
          2.72,
          2,
          3,
          3.39,
          1.47,
          3,
          1.25,
          1,
          1.17,
          5.92,
          2,
          1.75
         ],
         "yaxis": "y"
        }
       ],
       "layout": {
        "autosize": true,
        "legend": {
         "title": {
          "text": "sex"
         },
         "tracegroupgap": 0
        },
        "template": {
         "data": {
          "bar": [
           {
            "error_x": {
             "color": "#2a3f5f"
            },
            "error_y": {
             "color": "#2a3f5f"
            },
            "marker": {
             "line": {
              "color": "#E5ECF6",
              "width": 0.5
             },
             "pattern": {
              "fillmode": "overlay",
              "size": 10,
              "solidity": 0.2
             }
            },
            "type": "bar"
           }
          ],
          "barpolar": [
           {
            "marker": {
             "line": {
              "color": "#E5ECF6",
              "width": 0.5
             },
             "pattern": {
              "fillmode": "overlay",
              "size": 10,
              "solidity": 0.2
             }
            },
            "type": "barpolar"
           }
          ],
          "carpet": [
           {
            "aaxis": {
             "endlinecolor": "#2a3f5f",
             "gridcolor": "white",
             "linecolor": "white",
             "minorgridcolor": "white",
             "startlinecolor": "#2a3f5f"
            },
            "baxis": {
             "endlinecolor": "#2a3f5f",
             "gridcolor": "white",
             "linecolor": "white",
             "minorgridcolor": "white",
             "startlinecolor": "#2a3f5f"
            },
            "type": "carpet"
           }
          ],
          "choropleth": [
           {
            "colorbar": {
             "outlinewidth": 0,
             "ticks": ""
            },
            "type": "choropleth"
           }
          ],
          "contour": [
           {
            "colorbar": {
             "outlinewidth": 0,
             "ticks": ""
            },
            "colorscale": [
             [
              0,
              "#0d0887"
             ],
             [
              0.1111111111111111,
              "#46039f"
             ],
             [
              0.2222222222222222,
              "#7201a8"
             ],
             [
              0.3333333333333333,
              "#9c179e"
             ],
             [
              0.4444444444444444,
              "#bd3786"
             ],
             [
              0.5555555555555556,
              "#d8576b"
             ],
             [
              0.6666666666666666,
              "#ed7953"
             ],
             [
              0.7777777777777778,
              "#fb9f3a"
             ],
             [
              0.8888888888888888,
              "#fdca26"
             ],
             [
              1,
              "#f0f921"
             ]
            ],
            "type": "contour"
           }
          ],
          "contourcarpet": [
           {
            "colorbar": {
             "outlinewidth": 0,
             "ticks": ""
            },
            "type": "contourcarpet"
           }
          ],
          "heatmap": [
           {
            "colorbar": {
             "outlinewidth": 0,
             "ticks": ""
            },
            "colorscale": [
             [
              0,
              "#0d0887"
             ],
             [
              0.1111111111111111,
              "#46039f"
             ],
             [
              0.2222222222222222,
              "#7201a8"
             ],
             [
              0.3333333333333333,
              "#9c179e"
             ],
             [
              0.4444444444444444,
              "#bd3786"
             ],
             [
              0.5555555555555556,
              "#d8576b"
             ],
             [
              0.6666666666666666,
              "#ed7953"
             ],
             [
              0.7777777777777778,
              "#fb9f3a"
             ],
             [
              0.8888888888888888,
              "#fdca26"
             ],
             [
              1,
              "#f0f921"
             ]
            ],
            "type": "heatmap"
           }
          ],
          "heatmapgl": [
           {
            "colorbar": {
             "outlinewidth": 0,
             "ticks": ""
            },
            "colorscale": [
             [
              0,
              "#0d0887"
             ],
             [
              0.1111111111111111,
              "#46039f"
             ],
             [
              0.2222222222222222,
              "#7201a8"
             ],
             [
              0.3333333333333333,
              "#9c179e"
             ],
             [
              0.4444444444444444,
              "#bd3786"
             ],
             [
              0.5555555555555556,
              "#d8576b"
             ],
             [
              0.6666666666666666,
              "#ed7953"
             ],
             [
              0.7777777777777778,
              "#fb9f3a"
             ],
             [
              0.8888888888888888,
              "#fdca26"
             ],
             [
              1,
              "#f0f921"
             ]
            ],
            "type": "heatmapgl"
           }
          ],
          "histogram": [
           {
            "marker": {
             "pattern": {
              "fillmode": "overlay",
              "size": 10,
              "solidity": 0.2
             }
            },
            "type": "histogram"
           }
          ],
          "histogram2d": [
           {
            "colorbar": {
             "outlinewidth": 0,
             "ticks": ""
            },
            "colorscale": [
             [
              0,
              "#0d0887"
             ],
             [
              0.1111111111111111,
              "#46039f"
             ],
             [
              0.2222222222222222,
              "#7201a8"
             ],
             [
              0.3333333333333333,
              "#9c179e"
             ],
             [
              0.4444444444444444,
              "#bd3786"
             ],
             [
              0.5555555555555556,
              "#d8576b"
             ],
             [
              0.6666666666666666,
              "#ed7953"
             ],
             [
              0.7777777777777778,
              "#fb9f3a"
             ],
             [
              0.8888888888888888,
              "#fdca26"
             ],
             [
              1,
              "#f0f921"
             ]
            ],
            "type": "histogram2d"
           }
          ],
          "histogram2dcontour": [
           {
            "colorbar": {
             "outlinewidth": 0,
             "ticks": ""
            },
            "colorscale": [
             [
              0,
              "#0d0887"
             ],
             [
              0.1111111111111111,
              "#46039f"
             ],
             [
              0.2222222222222222,
              "#7201a8"
             ],
             [
              0.3333333333333333,
              "#9c179e"
             ],
             [
              0.4444444444444444,
              "#bd3786"
             ],
             [
              0.5555555555555556,
              "#d8576b"
             ],
             [
              0.6666666666666666,
              "#ed7953"
             ],
             [
              0.7777777777777778,
              "#fb9f3a"
             ],
             [
              0.8888888888888888,
              "#fdca26"
             ],
             [
              1,
              "#f0f921"
             ]
            ],
            "type": "histogram2dcontour"
           }
          ],
          "mesh3d": [
           {
            "colorbar": {
             "outlinewidth": 0,
             "ticks": ""
            },
            "type": "mesh3d"
           }
          ],
          "parcoords": [
           {
            "line": {
             "colorbar": {
              "outlinewidth": 0,
              "ticks": ""
             }
            },
            "type": "parcoords"
           }
          ],
          "pie": [
           {
            "automargin": true,
            "type": "pie"
           }
          ],
          "scatter": [
           {
            "fillpattern": {
             "fillmode": "overlay",
             "size": 10,
             "solidity": 0.2
            },
            "type": "scatter"
           }
          ],
          "scatter3d": [
           {
            "line": {
             "colorbar": {
              "outlinewidth": 0,
              "ticks": ""
             }
            },
            "marker": {
             "colorbar": {
              "outlinewidth": 0,
              "ticks": ""
             }
            },
            "type": "scatter3d"
           }
          ],
          "scattercarpet": [
           {
            "marker": {
             "colorbar": {
              "outlinewidth": 0,
              "ticks": ""
             }
            },
            "type": "scattercarpet"
           }
          ],
          "scattergeo": [
           {
            "marker": {
             "colorbar": {
              "outlinewidth": 0,
              "ticks": ""
             }
            },
            "type": "scattergeo"
           }
          ],
          "scattergl": [
           {
            "marker": {
             "colorbar": {
              "outlinewidth": 0,
              "ticks": ""
             }
            },
            "type": "scattergl"
           }
          ],
          "scattermapbox": [
           {
            "marker": {
             "colorbar": {
              "outlinewidth": 0,
              "ticks": ""
             }
            },
            "type": "scattermapbox"
           }
          ],
          "scatterpolar": [
           {
            "marker": {
             "colorbar": {
              "outlinewidth": 0,
              "ticks": ""
             }
            },
            "type": "scatterpolar"
           }
          ],
          "scatterpolargl": [
           {
            "marker": {
             "colorbar": {
              "outlinewidth": 0,
              "ticks": ""
             }
            },
            "type": "scatterpolargl"
           }
          ],
          "scatterternary": [
           {
            "marker": {
             "colorbar": {
              "outlinewidth": 0,
              "ticks": ""
             }
            },
            "type": "scatterternary"
           }
          ],
          "surface": [
           {
            "colorbar": {
             "outlinewidth": 0,
             "ticks": ""
            },
            "colorscale": [
             [
              0,
              "#0d0887"
             ],
             [
              0.1111111111111111,
              "#46039f"
             ],
             [
              0.2222222222222222,
              "#7201a8"
             ],
             [
              0.3333333333333333,
              "#9c179e"
             ],
             [
              0.4444444444444444,
              "#bd3786"
             ],
             [
              0.5555555555555556,
              "#d8576b"
             ],
             [
              0.6666666666666666,
              "#ed7953"
             ],
             [
              0.7777777777777778,
              "#fb9f3a"
             ],
             [
              0.8888888888888888,
              "#fdca26"
             ],
             [
              1,
              "#f0f921"
             ]
            ],
            "type": "surface"
           }
          ],
          "table": [
           {
            "cells": {
             "fill": {
              "color": "#EBF0F8"
             },
             "line": {
              "color": "white"
             }
            },
            "header": {
             "fill": {
              "color": "#C8D4E3"
             },
             "line": {
              "color": "white"
             }
            },
            "type": "table"
           }
          ]
         },
         "layout": {
          "annotationdefaults": {
           "arrowcolor": "#2a3f5f",
           "arrowhead": 0,
           "arrowwidth": 1
          },
          "autotypenumbers": "strict",
          "coloraxis": {
           "colorbar": {
            "outlinewidth": 0,
            "ticks": ""
           }
          },
          "colorscale": {
           "diverging": [
            [
             0,
             "#8e0152"
            ],
            [
             0.1,
             "#c51b7d"
            ],
            [
             0.2,
             "#de77ae"
            ],
            [
             0.3,
             "#f1b6da"
            ],
            [
             0.4,
             "#fde0ef"
            ],
            [
             0.5,
             "#f7f7f7"
            ],
            [
             0.6,
             "#e6f5d0"
            ],
            [
             0.7,
             "#b8e186"
            ],
            [
             0.8,
             "#7fbc41"
            ],
            [
             0.9,
             "#4d9221"
            ],
            [
             1,
             "#276419"
            ]
           ],
           "sequential": [
            [
             0,
             "#0d0887"
            ],
            [
             0.1111111111111111,
             "#46039f"
            ],
            [
             0.2222222222222222,
             "#7201a8"
            ],
            [
             0.3333333333333333,
             "#9c179e"
            ],
            [
             0.4444444444444444,
             "#bd3786"
            ],
            [
             0.5555555555555556,
             "#d8576b"
            ],
            [
             0.6666666666666666,
             "#ed7953"
            ],
            [
             0.7777777777777778,
             "#fb9f3a"
            ],
            [
             0.8888888888888888,
             "#fdca26"
            ],
            [
             1,
             "#f0f921"
            ]
           ],
           "sequentialminus": [
            [
             0,
             "#0d0887"
            ],
            [
             0.1111111111111111,
             "#46039f"
            ],
            [
             0.2222222222222222,
             "#7201a8"
            ],
            [
             0.3333333333333333,
             "#9c179e"
            ],
            [
             0.4444444444444444,
             "#bd3786"
            ],
            [
             0.5555555555555556,
             "#d8576b"
            ],
            [
             0.6666666666666666,
             "#ed7953"
            ],
            [
             0.7777777777777778,
             "#fb9f3a"
            ],
            [
             0.8888888888888888,
             "#fdca26"
            ],
            [
             1,
             "#f0f921"
            ]
           ]
          },
          "colorway": [
           "#636efa",
           "#EF553B",
           "#00cc96",
           "#ab63fa",
           "#FFA15A",
           "#19d3f3",
           "#FF6692",
           "#B6E880",
           "#FF97FF",
           "#FECB52"
          ],
          "font": {
           "color": "#2a3f5f"
          },
          "geo": {
           "bgcolor": "white",
           "lakecolor": "white",
           "landcolor": "#E5ECF6",
           "showlakes": true,
           "showland": true,
           "subunitcolor": "white"
          },
          "hoverlabel": {
           "align": "left"
          },
          "hovermode": "closest",
          "mapbox": {
           "style": "light"
          },
          "paper_bgcolor": "white",
          "plot_bgcolor": "#E5ECF6",
          "polar": {
           "angularaxis": {
            "gridcolor": "white",
            "linecolor": "white",
            "ticks": ""
           },
           "bgcolor": "#E5ECF6",
           "radialaxis": {
            "gridcolor": "white",
            "linecolor": "white",
            "ticks": ""
           }
          },
          "scene": {
           "xaxis": {
            "backgroundcolor": "#E5ECF6",
            "gridcolor": "white",
            "gridwidth": 2,
            "linecolor": "white",
            "showbackground": true,
            "ticks": "",
            "zerolinecolor": "white"
           },
           "yaxis": {
            "backgroundcolor": "#E5ECF6",
            "gridcolor": "white",
            "gridwidth": 2,
            "linecolor": "white",
            "showbackground": true,
            "ticks": "",
            "zerolinecolor": "white"
           },
           "zaxis": {
            "backgroundcolor": "#E5ECF6",
            "gridcolor": "white",
            "gridwidth": 2,
            "linecolor": "white",
            "showbackground": true,
            "ticks": "",
            "zerolinecolor": "white"
           }
          },
          "shapedefaults": {
           "line": {
            "color": "#2a3f5f"
           }
          },
          "ternary": {
           "aaxis": {
            "gridcolor": "white",
            "linecolor": "white",
            "ticks": ""
           },
           "baxis": {
            "gridcolor": "white",
            "linecolor": "white",
            "ticks": ""
           },
           "bgcolor": "#E5ECF6",
           "caxis": {
            "gridcolor": "white",
            "linecolor": "white",
            "ticks": ""
           }
          },
          "title": {
           "x": 0.05
          },
          "xaxis": {
           "automargin": true,
           "gridcolor": "white",
           "linecolor": "white",
           "ticks": "",
           "title": {
            "standoff": 15
           },
           "zerolinecolor": "white",
           "zerolinewidth": 2
          },
          "yaxis": {
           "automargin": true,
           "gridcolor": "white",
           "linecolor": "white",
           "ticks": "",
           "title": {
            "standoff": 15
           },
           "zerolinecolor": "white",
           "zerolinewidth": 2
          }
         }
        },
        "title": {
         "text": "Scatter Plot of Total Bill vs Tip"
        },
        "xaxis": {
         "anchor": "y",
         "autorange": true,
         "domain": [
          0,
          1
         ],
         "range": [
          0.17507808687164417,
          53.70492191312836
         ],
         "title": {
          "text": "total_bill"
         },
         "type": "linear"
        },
        "yaxis": {
         "anchor": "x",
         "autorange": true,
         "domain": [
          0,
          1
         ],
         "range": [
          0.25728155339805825,
          10.742718446601941
         ],
         "title": {
          "text": "tip"
         },
         "type": "linear"
        }
       }
      },
      "image/png": "[encoded data removed]",
      "text/html": [
       "<div>                            <div id=\"40854a6e-ac92-4569-a6ad-c81ad4141b52\" class=\"plotly-graph-div\" style=\"height:525px; width:100%;\"></div>            <script type=\"text/javascript\">                require([\"plotly\"], function(Plotly) {                    window.PLOTLYENV=window.PLOTLYENV || {};                                    if (document.getElementById(\"40854a6e-ac92-4569-a6ad-c81ad4141b52\")) {                    Plotly.newPlot(                        \"40854a6e-ac92-4569-a6ad-c81ad4141b52\",                        [{\"hovertemplate\":\"sex=Female\\u003cbr\\u003etotal_bill=%{x}\\u003cbr\\u003etip=%{y}\\u003cextra\\u003e\\u003c\\u002fextra\\u003e\",\"legendgroup\":\"Female\",\"marker\":{\"color\":\"#636efa\",\"symbol\":\"circle\"},\"mode\":\"markers\",\"name\":\"Female\",\"orientation\":\"v\",\"showlegend\":true,\"x\":[16.99,24.59,35.26,14.83,10.33,16.97,20.29,15.77,19.65,15.06,20.69,16.93,10.29,34.81,26.41,16.45,3.07,17.07,26.86,25.28,14.73,10.07,34.83,5.75,16.32,22.75,11.35,15.38,44.3,22.42,20.92,14.31,7.25,25.71,17.31,10.65,12.43,24.08,13.42,12.48,29.8,14.52,11.38,20.27,11.17,12.26,18.26,8.51,10.33,14.15,13.16,17.47,27.05,16.43,8.35,18.64,11.87,29.85,25.0,13.39,16.21,17.51,10.59,10.63,9.6,20.9,18.15,19.81,43.11,13.0,12.74,13.0,16.4,16.47,12.76,13.27,28.17,12.9,30.14,13.42,15.98,16.27,10.09,22.12,35.83,27.18,18.78],\"xaxis\":\"x\",\"y\":[1.01,3.61,5.0,3.02,1.67,3.5,2.75,2.23,3.0,3.0,2.45,3.07,2.6,5.2,1.5,2.47,1.0,3.0,3.14,5.0,2.2,1.83,5.17,1.0,4.3,3.25,2.5,3.0,2.5,3.48,4.08,4.0,1.0,4.0,3.5,1.5,1.8,2.92,1.68,2.52,4.2,2.0,2.0,2.83,1.5,2.0,3.25,1.25,2.0,2.0,2.75,3.5,5.0,2.3,1.5,1.36,1.63,5.14,3.75,2.61,2.0,3.0,1.61,2.0,4.0,3.5,3.5,4.19,5.0,2.0,2.01,2.0,2.5,3.23,2.23,2.5,6.5,1.1,3.09,3.48,3.0,2.5,2.0,2.88,4.67,2.0,3.0],\"yaxis\":\"y\",\"type\":\"scatter\"},{\"hovertemplate\":\"sex=Male\\u003cbr\\u003etotal_bill=%{x}\\u003cbr\\u003etip=%{y}\\u003cextra\\u003e\\u003c\\u002fextra\\u003e\",\"legendgroup\":\"Male\",\"marker\":{\"color\":\"#EF553B\",\"symbol\":\"circle\"},\"mode\":\"markers\",\"name\":\"Male\",\"orientation\":\"v\",\"showlegend\":true,\"x\":[10.34,21.01,23.68,25.29,8.77,26.88,15.04,14.78,10.27,15.42,18.43,21.58,16.29,20.65,17.92,39.42,19.82,17.81,13.37,12.69,21.7,9.55,18.35,17.78,24.06,16.31,18.69,31.27,16.04,17.46,13.94,9.68,30.4,18.29,22.23,32.4,28.55,18.04,12.54,9.94,25.56,19.49,38.01,11.24,48.27,20.29,13.81,11.02,18.29,17.59,20.08,20.23,15.01,12.02,10.51,17.92,27.2,22.76,17.29,19.44,16.66,32.68,15.98,13.03,18.28,24.71,21.16,28.97,22.49,40.17,27.28,12.03,21.01,12.46,15.36,20.49,25.21,18.24,14.0,38.07,23.95,29.93,11.69,14.26,15.95,8.52,22.82,19.08,16.0,34.3,41.19,9.78,7.51,14.07,13.13,17.26,24.55,19.77,48.17,16.49,21.5,12.66,13.81,24.52,20.76,31.71,50.81,15.81,7.25,31.85,16.82,32.9,17.89,14.48,34.63,34.65,23.33,45.35,23.17,40.55,20.69,30.46,23.1,15.69,28.44,15.48,16.58,7.56,10.34,13.51,18.71,20.53,26.59,38.73,24.27,30.06,25.89,48.33,28.15,11.59,7.74,12.16,8.58,13.42,20.45,13.28,24.01,15.69,11.61,10.77,15.53,10.07,12.6,32.83,29.03,22.67,17.82],\"xaxis\":\"x\",\"y\":[1.66,3.5,3.31,4.71,2.0,3.12,1.96,3.23,1.71,1.57,3.0,3.92,3.71,3.35,4.08,7.58,3.18,2.34,2.0,2.0,4.3,1.45,2.5,3.27,3.6,2.0,2.31,5.0,2.24,2.54,3.06,1.32,5.6,3.0,5.0,6.0,2.05,3.0,2.5,1.56,4.34,3.51,3.0,1.76,6.73,3.21,2.0,1.98,3.76,2.64,3.15,2.01,2.09,1.97,1.25,3.08,4.0,3.0,2.71,3.0,3.4,5.0,2.03,2.0,4.0,5.85,3.0,3.0,3.5,4.73,4.0,1.5,3.0,1.5,1.64,4.06,4.29,3.76,3.0,4.0,2.55,5.07,2.31,2.5,2.0,1.48,2.18,1.5,2.0,6.7,5.0,1.73,2.0,2.5,2.0,2.74,2.0,2.0,5.0,2.0,3.5,2.5,2.0,3.48,2.24,4.5,10.0,3.16,5.15,3.18,4.0,3.11,2.0,2.0,3.55,3.68,5.65,3.5,6.5,3.0,5.0,2.0,4.0,1.5,2.56,2.02,4.0,1.44,2.0,2.0,4.0,4.0,3.41,3.0,2.03,2.0,5.16,9.0,3.0,1.5,1.44,2.2,1.92,1.58,3.0,2.72,2.0,3.0,3.39,1.47,3.0,1.25,1.0,1.17,5.92,2.0,1.75],\"yaxis\":\"y\",\"type\":\"scatter\"}],                        {\"template\":{\"data\":{\"histogram2dcontour\":[{\"type\":\"histogram2dcontour\",\"colorbar\":{\"outlinewidth\":0,\"ticks\":\"\"},\"colorscale\":[[0.0,\"#0d0887\"],[0.1111111111111111,\"#46039f\"],[0.2222222222222222,\"#7201a8\"],[0.3333333333333333,\"#9c179e\"],[0.4444444444444444,\"#bd3786\"],[0.5555555555555556,\"#d8576b\"],[0.6666666666666666,\"#ed7953\"],[0.7777777777777778,\"#fb9f3a\"],[0.8888888888888888,\"#fdca26\"],[1.0,\"#f0f921\"]]}],\"choropleth\":[{\"type\":\"choropleth\",\"colorbar\":{\"outlinewidth\":0,\"ticks\":\"\"}}],\"histogram2d\":[{\"type\":\"histogram2d\",\"colorbar\":{\"outlinewidth\":0,\"ticks\":\"\"},\"colorscale\":[[0.0,\"#0d0887\"],[0.1111111111111111,\"#46039f\"],[0.2222222222222222,\"#7201a8\"],[0.3333333333333333,\"#9c179e\"],[0.4444444444444444,\"#bd3786\"],[0.5555555555555556,\"#d8576b\"],[0.6666666666666666,\"#ed7953\"],[0.7777777777777778,\"#fb9f3a\"],[0.8888888888888888,\"#fdca26\"],[1.0,\"#f0f921\"]]}],\"heatmap\":[{\"type\":\"heatmap\",\"colorbar\":{\"outlinewidth\":0,\"ticks\":\"\"},\"colorscale\":[[0.0,\"#0d0887\"],[0.1111111111111111,\"#46039f\"],[0.2222222222222222,\"#7201a8\"],[0.3333333333333333,\"#9c179e\"],[0.4444444444444444,\"#bd3786\"],[0.5555555555555556,\"#d8576b\"],[0.6666666666666666,\"#ed7953\"],[0.7777777777777778,\"#fb9f3a\"],[0.8888888888888888,\"#fdca26\"],[1.0,\"#f0f921\"]]}],\"heatmapgl\":[{\"type\":\"heatmapgl\",\"colorbar\":{\"outlinewidth\":0,\"ticks\":\"\"},\"colorscale\":[[0.0,\"#0d0887\"],[0.1111111111111111,\"#46039f\"],[0.2222222222222222,\"#7201a8\"],[0.3333333333333333,\"#9c179e\"],[0.4444444444444444,\"#bd3786\"],[0.5555555555555556,\"#d8576b\"],[0.6666666666666666,\"#ed7953\"],[0.7777777777777778,\"#fb9f3a\"],[0.8888888888888888,\"#fdca26\"],[1.0,\"#f0f921\"]]}],\"contourcarpet\":[{\"type\":\"contourcarpet\",\"colorbar\":{\"outlinewidth\":0,\"ticks\":\"\"}}],\"contour\":[{\"type\":\"contour\",\"colorbar\":{\"outlinewidth\":0,\"ticks\":\"\"},\"colorscale\":[[0.0,\"#0d0887\"],[0.1111111111111111,\"#46039f\"],[0.2222222222222222,\"#7201a8\"],[0.3333333333333333,\"#9c179e\"],[0.4444444444444444,\"#bd3786\"],[0.5555555555555556,\"#d8576b\"],[0.6666666666666666,\"#ed7953\"],[0.7777777777777778,\"#fb9f3a\"],[0.8888888888888888,\"#fdca26\"],[1.0,\"#f0f921\"]]}],\"surface\":[{\"type\":\"surface\",\"colorbar\":{\"outlinewidth\":0,\"ticks\":\"\"},\"colorscale\":[[0.0,\"#0d0887\"],[0.1111111111111111,\"#46039f\"],[0.2222222222222222,\"#7201a8\"],[0.3333333333333333,\"#9c179e\"],[0.4444444444444444,\"#bd3786\"],[0.5555555555555556,\"#d8576b\"],[0.6666666666666666,\"#ed7953\"],[0.7777777777777778,\"#fb9f3a\"],[0.8888888888888888,\"#fdca26\"],[1.0,\"#f0f921\"]]}],\"mesh3d\":[{\"type\":\"mesh3d\",\"colorbar\":{\"outlinewidth\":0,\"ticks\":\"\"}}],\"scatter\":[{\"fillpattern\":{\"fillmode\":\"overlay\",\"size\":10,\"solidity\":0.2},\"type\":\"scatter\"}],\"parcoords\":[{\"type\":\"parcoords\",\"line\":{\"colorbar\":{\"outlinewidth\":0,\"ticks\":\"\"}}}],\"scatterpolargl\":[{\"type\":\"scatterpolargl\",\"marker\":{\"colorbar\":{\"outlinewidth\":0,\"ticks\":\"\"}}}],\"bar\":[{\"error_x\":{\"color\":\"#2a3f5f\"},\"error_y\":{\"color\":\"#2a3f5f\"},\"marker\":{\"line\":{\"color\":\"#E5ECF6\",\"width\":0.5},\"pattern\":{\"fillmode\":\"overlay\",\"size\":10,\"solidity\":0.2}},\"type\":\"bar\"}],\"scattergeo\":[{\"type\":\"scattergeo\",\"marker\":{\"colorbar\":{\"outlinewidth\":0,\"ticks\":\"\"}}}],\"scatterpolar\":[{\"type\":\"scatterpolar\",\"marker\":{\"colorbar\":{\"outlinewidth\":0,\"ticks\":\"\"}}}],\"histogram\":[{\"marker\":{\"pattern\":{\"fillmode\":\"overlay\",\"size\":10,\"solidity\":0.2}},\"type\":\"histogram\"}],\"scattergl\":[{\"type\":\"scattergl\",\"marker\":{\"colorbar\":{\"outlinewidth\":0,\"ticks\":\"\"}}}],\"scatter3d\":[{\"type\":\"scatter3d\",\"line\":{\"colorbar\":{\"outlinewidth\":0,\"ticks\":\"\"}},\"marker\":{\"colorbar\":{\"outlinewidth\":0,\"ticks\":\"\"}}}],\"scattermapbox\":[{\"type\":\"scattermapbox\",\"marker\":{\"colorbar\":{\"outlinewidth\":0,\"ticks\":\"\"}}}],\"scatterternary\":[{\"type\":\"scatterternary\",\"marker\":{\"colorbar\":{\"outlinewidth\":0,\"ticks\":\"\"}}}],\"scattercarpet\":[{\"type\":\"scattercarpet\",\"marker\":{\"colorbar\":{\"outlinewidth\":0,\"ticks\":\"\"}}}],\"carpet\":[{\"aaxis\":{\"endlinecolor\":\"#2a3f5f\",\"gridcolor\":\"white\",\"linecolor\":\"white\",\"minorgridcolor\":\"white\",\"startlinecolor\":\"#2a3f5f\"},\"baxis\":{\"endlinecolor\":\"#2a3f5f\",\"gridcolor\":\"white\",\"linecolor\":\"white\",\"minorgridcolor\":\"white\",\"startlinecolor\":\"#2a3f5f\"},\"type\":\"carpet\"}],\"table\":[{\"cells\":{\"fill\":{\"color\":\"#EBF0F8\"},\"line\":{\"color\":\"white\"}},\"header\":{\"fill\":{\"color\":\"#C8D4E3\"},\"line\":{\"color\":\"white\"}},\"type\":\"table\"}],\"barpolar\":[{\"marker\":{\"line\":{\"color\":\"#E5ECF6\",\"width\":0.5},\"pattern\":{\"fillmode\":\"overlay\",\"size\":10,\"solidity\":0.2}},\"type\":\"barpolar\"}],\"pie\":[{\"automargin\":true,\"type\":\"pie\"}]},\"layout\":{\"autotypenumbers\":\"strict\",\"colorway\":[\"#636efa\",\"#EF553B\",\"#00cc96\",\"#ab63fa\",\"#FFA15A\",\"#19d3f3\",\"#FF6692\",\"#B6E880\",\"#FF97FF\",\"#FECB52\"],\"font\":{\"color\":\"#2a3f5f\"},\"hovermode\":\"closest\",\"hoverlabel\":{\"align\":\"left\"},\"paper_bgcolor\":\"white\",\"plot_bgcolor\":\"#E5ECF6\",\"polar\":{\"bgcolor\":\"#E5ECF6\",\"angularaxis\":{\"gridcolor\":\"white\",\"linecolor\":\"white\",\"ticks\":\"\"},\"radialaxis\":{\"gridcolor\":\"white\",\"linecolor\":\"white\",\"ticks\":\"\"}},\"ternary\":{\"bgcolor\":\"#E5ECF6\",\"aaxis\":{\"gridcolor\":\"white\",\"linecolor\":\"white\",\"ticks\":\"\"},\"baxis\":{\"gridcolor\":\"white\",\"linecolor\":\"white\",\"ticks\":\"\"},\"caxis\":{\"gridcolor\":\"white\",\"linecolor\":\"white\",\"ticks\":\"\"}},\"coloraxis\":{\"colorbar\":{\"outlinewidth\":0,\"ticks\":\"\"}},\"colorscale\":{\"sequential\":[[0.0,\"#0d0887\"],[0.1111111111111111,\"#46039f\"],[0.2222222222222222,\"#7201a8\"],[0.3333333333333333,\"#9c179e\"],[0.4444444444444444,\"#bd3786\"],[0.5555555555555556,\"#d8576b\"],[0.6666666666666666,\"#ed7953\"],[0.7777777777777778,\"#fb9f3a\"],[0.8888888888888888,\"#fdca26\"],[1.0,\"#f0f921\"]],\"sequentialminus\":[[0.0,\"#0d0887\"],[0.1111111111111111,\"#46039f\"],[0.2222222222222222,\"#7201a8\"],[0.3333333333333333,\"#9c179e\"],[0.4444444444444444,\"#bd3786\"],[0.5555555555555556,\"#d8576b\"],[0.6666666666666666,\"#ed7953\"],[0.7777777777777778,\"#fb9f3a\"],[0.8888888888888888,\"#fdca26\"],[1.0,\"#f0f921\"]],\"diverging\":[[0,\"#8e0152\"],[0.1,\"#c51b7d\"],[0.2,\"#de77ae\"],[0.3,\"#f1b6da\"],[0.4,\"#fde0ef\"],[0.5,\"#f7f7f7\"],[0.6,\"#e6f5d0\"],[0.7,\"#b8e186\"],[0.8,\"#7fbc41\"],[0.9,\"#4d9221\"],[1,\"#276419\"]]},\"xaxis\":{\"gridcolor\":\"white\",\"linecolor\":\"white\",\"ticks\":\"\",\"title\":{\"standoff\":15},\"zerolinecolor\":\"white\",\"automargin\":true,\"zerolinewidth\":2},\"yaxis\":{\"gridcolor\":\"white\",\"linecolor\":\"white\",\"ticks\":\"\",\"title\":{\"standoff\":15},\"zerolinecolor\":\"white\",\"automargin\":true,\"zerolinewidth\":2},\"scene\":{\"xaxis\":{\"backgroundcolor\":\"#E5ECF6\",\"gridcolor\":\"white\",\"linecolor\":\"white\",\"showbackground\":true,\"ticks\":\"\",\"zerolinecolor\":\"white\",\"gridwidth\":2},\"yaxis\":{\"backgroundcolor\":\"#E5ECF6\",\"gridcolor\":\"white\",\"linecolor\":\"white\",\"showbackground\":true,\"ticks\":\"\",\"zerolinecolor\":\"white\",\"gridwidth\":2},\"zaxis\":{\"backgroundcolor\":\"#E5ECF6\",\"gridcolor\":\"white\",\"linecolor\":\"white\",\"showbackground\":true,\"ticks\":\"\",\"zerolinecolor\":\"white\",\"gridwidth\":2}},\"shapedefaults\":{\"line\":{\"color\":\"#2a3f5f\"}},\"annotationdefaults\":{\"arrowcolor\":\"#2a3f5f\",\"arrowhead\":0,\"arrowwidth\":1},\"geo\":{\"bgcolor\":\"white\",\"landcolor\":\"#E5ECF6\",\"subunitcolor\":\"white\",\"showland\":true,\"showlakes\":true,\"lakecolor\":\"white\"},\"title\":{\"x\":0.05},\"mapbox\":{\"style\":\"light\"}}},\"xaxis\":{\"anchor\":\"y\",\"domain\":[0.0,1.0],\"title\":{\"text\":\"total_bill\"}},\"yaxis\":{\"anchor\":\"x\",\"domain\":[0.0,1.0],\"title\":{\"text\":\"tip\"}},\"legend\":{\"title\":{\"text\":\"sex\"},\"tracegroupgap\":0},\"title\":{\"text\":\"Scatter Plot of Total Bill vs Tip\"}},                        {\"responsive\": true}                    ).then(function(){\n",
       "                            \n",
       "var gd = document.getElementById('40854a6e-ac92-4569-a6ad-c81ad4141b52');\n",
       "var x = new MutationObserver(function (mutations, observer) {{\n",
       "        var display = window.getComputedStyle(gd).display;\n",
       "        if (!display || display === 'none') {{\n",
       "            console.log([gd, 'removed!']);\n",
       "            Plotly.purge(gd);\n",
       "            observer.disconnect();\n",
       "        }}\n",
       "}});\n",
       "\n",
       "// Listen for the removal of the full notebook cells\n",
       "var notebookContainer = gd.closest('#notebook-container');\n",
       "if (notebookContainer) {{\n",
       "    x.observe(notebookContainer, {childList: true});\n",
       "}}\n",
       "\n",
       "// Listen for the clearing of the current output cell\n",
       "var outputEl = gd.closest('.output');\n",
       "if (outputEl) {{\n",
       "    x.observe(outputEl, {childList: true});\n",
       "}}\n",
       "\n",
       "                        })                };                });            </script>        </div>"
      ]
     },
     "metadata": {},
     "output_type": "display_data"
    }
   ],
   "source": [
    "import matplotlib.pyplot as plt\n",
    "import seaborn as sns\n",
    "import plotly.express as px\n",
    "\n",
    "# Matplotlib: Basic plotting\n",
    "x = [1, 2, 3, 4, 5]\n",
    "y = [2, 4, 6, 8, 10]\n",
    "\n",
    "plt.plot(x, y, label=\"Linear Growth\", color='b')\n",
    "plt.xlabel('X-axis')\n",
    "plt.ylabel('Y-axis')\n",
    "plt.title('Simple Line Plot')\n",
    "plt.legend()\n",
    "plt.show()\n",
    "\n",
    "# Seaborn: Statistical data visualization (Histogram)\n",
    "tips = sns.load_dataset('tips')  # Loading sample dataset\n",
    "sns.histplot(tips['total_bill'], kde=True)  # Histogram with KDE\n",
    "plt.title('Histogram of Total Bills')\n",
    "plt.show()\n",
    "\n",
    "# Plotly: Interactive visualizations\n",
    "fig = px.scatter(tips, x='total_bill', y='tip', color='sex', \n",
    "                 title=\"Scatter Plot of Total Bill vs Tip\")\n",
    "fig.show()"
   ]
  },
  {
   "cell_type": "code",
   "execution_count": 38,
   "id": "b24d088f-ced3-4ca2-b1d4-005f227531f4",
   "metadata": {},
   "outputs": [
    {
     "ename": "ModuleNotFoundError",
     "evalue": "No module named 'dash'",
     "output_type": "error",
     "traceback": [
      "\u001b[0;31m---------------------------------------------------------------------------\u001b[0m",
      "\u001b[0;31mModuleNotFoundError\u001b[0m                       Traceback (most recent call last)",
      "Cell \u001b[0;32mIn[38], line 2\u001b[0m\n\u001b[1;32m      1\u001b[0m \u001b[38;5;66;03m#Dash: Basic dashboard setup (code not executable in a single block, as Dash apps run in servers)\u001b[39;00m\n\u001b[0;32m----> 2\u001b[0m \u001b[38;5;28;01mimport\u001b[39;00m \u001b[38;5;21;01mdash\u001b[39;00m\n\u001b[1;32m      3\u001b[0m app \u001b[38;5;241m=\u001b[39m dash\u001b[38;5;241m.\u001b[39mDash(\u001b[38;5;18m__name__\u001b[39m)\n\u001b[1;32m      4\u001b[0m app\u001b[38;5;241m.\u001b[39mlayout \u001b[38;5;241m=\u001b[39m html\u001b[38;5;241m.\u001b[39mDiv([\n\u001b[1;32m      5\u001b[0m     dcc\u001b[38;5;241m.\u001b[39mGraph(\n\u001b[1;32m      6\u001b[0m         \u001b[38;5;28mid\u001b[39m\u001b[38;5;241m=\u001b[39m\u001b[38;5;124m'\u001b[39m\u001b[38;5;124mexample-graph\u001b[39m\u001b[38;5;124m'\u001b[39m,\n\u001b[0;32m   (...)\u001b[0m\n\u001b[1;32m     11\u001b[0m     )\n\u001b[1;32m     12\u001b[0m ])\n",
      "\u001b[0;31mModuleNotFoundError\u001b[0m: No module named 'dash'"
     ]
    }
   ],
   "source": [
    "#Dash: Basic dashboard setup (code not executable in a single block, as Dash apps run in servers)\n",
    "import dash\n",
    "app = dash.Dash(__name__)\n",
    "app.layout = html.Div([\n",
    "    dcc.Graph(\n",
    "        id='example-graph',\n",
    "        figure={\n",
    "            'data': [{'x': [1, 2, 3], 'y': [4, 1, 2], 'type': 'bar', 'name': 'SF'}],\n",
    "            'layout': {'title': 'Dash Data Visualization'}\n",
    "        }\n",
    "    )\n",
    "])\n",
    "\n",
    "if __name__ == '__main__':\n",
    "     app.run_server(debug=True)\n"
   ]
  },
  {
   "cell_type": "code",
   "execution_count": null,
   "id": "23387db8-64bf-4e74-921e-306c33e06873",
   "metadata": {},
   "outputs": [],
   "source": []
  },
  {
   "cell_type": "code",
   "execution_count": null,
   "id": "922ed6ee-0bcd-4f4f-a3cf-c84426c56fa8",
   "metadata": {},
   "outputs": [],
   "source": []
  },
  {
   "cell_type": "code",
   "execution_count": null,
   "id": "3a5ba697-cca5-4fcd-8c14-79bbfa505751",
   "metadata": {},
   "outputs": [],
   "source": []
  },
  {
   "cell_type": "code",
   "execution_count": null,
   "id": "536c4e47-ef0a-42b7-a57a-f7f3920ad4cd",
   "metadata": {},
   "outputs": [],
   "source": []
  },
  {
   "cell_type": "code",
   "execution_count": null,
   "id": "10885a47-a4c8-4bc5-8101-dcf0827d6895",
   "metadata": {},
   "outputs": [],
   "source": []
  },
  {
   "cell_type": "code",
   "execution_count": null,
   "id": "6031eb94-cf61-4903-86b5-4bc5fb56f1d6",
   "metadata": {},
   "outputs": [],
   "source": []
  },
  {
   "cell_type": "code",
   "execution_count": null,
   "id": "e6f1418e-0079-4725-bb09-03d9a7acf786",
   "metadata": {},
   "outputs": [],
   "source": []
  },
  {
   "cell_type": "code",
   "execution_count": null,
   "id": "451090f2-078a-4989-8f54-bf80941b9a1a",
   "metadata": {},
   "outputs": [],
   "source": []
  },
  {
   "cell_type": "code",
   "execution_count": null,
   "id": "425e67dc-6cb7-4b0d-b5a9-f58df54cd417",
   "metadata": {},
   "outputs": [],
   "source": []
  },
  {
   "cell_type": "code",
   "execution_count": null,
   "id": "812441c3-c738-4562-bd1d-7eeaeb711a6c",
   "metadata": {},
   "outputs": [],
   "source": []
  },
  {
   "cell_type": "code",
   "execution_count": null,
   "id": "ec69f2d3-b6d4-4854-9214-47f010d8c0c2",
   "metadata": {},
   "outputs": [],
   "source": []
  },
  {
   "cell_type": "code",
   "execution_count": null,
   "id": "fd051132-d9ed-4460-9cce-153df5da5f80",
   "metadata": {},
   "outputs": [],
   "source": []
  },
  {
   "cell_type": "code",
   "execution_count": null,
   "id": "36206a1f-e2ac-4edb-a306-fb28658ddd53",
   "metadata": {},
   "outputs": [],
   "source": []
  },
  {
   "cell_type": "code",
   "execution_count": 14,
   "id": "ee3357e7-1b1b-48c1-983d-9bc88de421ba",
   "metadata": {},
   "outputs": [
    {
     "name": "stdout",
     "output_type": "stream",
     "text": [
      "Intercept (β0): 2.2\n",
      "Slope (β1): 0.6\n"
     ]
    },
    {
     "data": {
      "image/png": "[encoded data removed]",
      "text/plain": [
       "<Figure size 640x480 with 1 Axes>"
      ]
     },
     "metadata": {},
     "output_type": "display_data"
    }
   ],
   "source": [
    "import numpy as np\n",
    "import matplotlib.pyplot as plt\n",
    "\n",
    "# Sample data\n",
    "x = np.array([1, 2, 3, 4, 5])\n",
    "y = np.array([2, 4, 5, 4, 5])\n",
    "\n",
    "# Step 1: Calculate the means of x and y\n",
    "x_mean = np.mean(x)\n",
    "y_mean = np.mean(y)\n",
    "\n",
    "# Step 2: Calculate the coefficients β1 (slope) and β0 (intercept)\n",
    "numerator = np.sum((x - x_mean) * (y - y_mean))\n",
    "denominator = np.sum((x - x_mean)**2)\n",
    "\n",
    "beta_1 = numerator / denominator\n",
    "beta_0 = y_mean - beta_1 * x_mean\n",
    "\n",
    "print(f\"Intercept (β0): {beta_0}\")\n",
    "print(f\"Slope (β1): {beta_1}\")\n",
    "\n",
    "# Step 3: Create a linear regression line\n",
    "y_pred = beta_0 + beta_1 * x\n",
    "\n",
    "# Step 4: Plot the data and the regression line\n",
    "plt.scatter(x, y, color='blue', label='Data points')\n",
    "plt.plot(x, y_pred, color='red', label='Regression line')\n",
    "plt.xlabel('X')\n",
    "plt.ylabel('Y')\n",
    "plt.legend()\n",
    "plt.show()\n"
   ]
  },
  {
   "cell_type": "code",
   "execution_count": 26,
   "id": "ca3e693c-24ca-47ca-abe9-5fd18de1f6b0",
   "metadata": {},
   "outputs": [
    {
     "name": "stdout",
     "output_type": "stream",
     "text": [
      "Intercept (β0): 1.3529411764705879\n",
      "Slope (β1): 1.0098039215686276\n",
      "Predicted Y_hat values: [ 2.3627451   4.38235294  5.39215686  8.42156863 10.44117647]\n",
      "Residuals: [ 0.6372549  -0.38235294 -0.39215686 -0.42156863  0.55882353]\n",
      "Sum of Squared Residuals (SSR): 1.19607843137255\n",
      "R-Squared: 0.9720542422576507\n",
      "T-statistic: 10.215224895817572\n",
      "Confidence Interval for β1: (0.6952100881452045, 1.324397754992051)\n",
      "Predictions for new X values [6 7]: [7.41176471 8.42156863]\n"
     ]
    },
    {
     "data": {
      "image/png": "[encoded data removed]",
      "text/plain": [
       "<Figure size 640x480 with 1 Axes>"
      ]
     },
     "metadata": {},
     "output_type": "display_data"
    }
   ],
   "source": [
    "import numpy as np\n",
    "import matplotlib.pyplot as plt\n",
    "from scipy import stats\n",
    "\n",
    "# Linear data points\n",
    "x = np.array([1, 3, 4, 7, 9])\n",
    "y = np.array([3, 4, 5, 8, 11])\n",
    "\n",
    "# Step 1: Calculate the means of x and y\n",
    "x_mean = np.mean(x)\n",
    "y_mean = np.mean(y)\n",
    "\n",
    "# Step 2: Calculate the coefficients β1 (slope) and β0 (intercept)\n",
    "numerator = np.sum((x - x_mean) * (y - y_mean))\n",
    "denominator = np.sum((x - x_mean)**2)\n",
    "\n",
    "beta_1 = numerator / denominator\n",
    "beta_0 = y_mean - beta_1 * x_mean\n",
    "\n",
    "# Step 3: Calculate predicted values (Y_hat)\n",
    "y_hat = beta_0 + beta_1 * x\n",
    "\n",
    "# Step 4: Calculate residuals\n",
    "residuals = y - y_hat\n",
    "\n",
    "# Step 5: Calculate SSR (Sum of Squared Residuals)\n",
    "SSR = np.sum(residuals**2)\n",
    "\n",
    "# Step 6: Calculate SST (Total Sum of Squares)\n",
    "SST = np.sum((y - y_mean)**2)\n",
    "\n",
    "# Step 7: Calculate R-Squared\n",
    "R_squared = 1 - (SSR / SST)\n",
    "\n",
    "# Step 8: Calculate the standard error of β1 (SE_β1)\n",
    "n = len(x)\n",
    "SE_beta_1 = np.sqrt(SSR / (n - 2)) / np.sqrt(denominator)\n",
    "\n",
    "# Step 9: Calculate the t-statistic\n",
    "t_stat = beta_1 / SE_beta_1\n",
    "\n",
    "# Step 10: Confidence Interval for β1\n",
    "alpha = 0.05\n",
    "t_critical = stats.t.ppf(1 - alpha/2, df=n-2)\n",
    "CI_lower = beta_1 - t_critical * SE_beta_1\n",
    "CI_upper = beta_1 + t_critical * SE_beta_1\n",
    "\n",
    "# Step 11: Predict new Y for a new X value\n",
    "x_new = np.array([6, 7])  # Example of new X values\n",
    "y_new_pred = beta_0 + beta_1 * x_new\n",
    "\n",
    "# Output results\n",
    "print(f\"Intercept (β0): {beta_0}\")\n",
    "print(f\"Slope (β1): {beta_1}\")\n",
    "print(f\"Predicted Y_hat values: {y_hat}\")\n",
    "print(f\"Residuals: {residuals}\")\n",
    "print(f\"Sum of Squared Residuals (SSR): {SSR}\")\n",
    "print(f\"R-Squared: {R_squared}\")\n",
    "print(f\"T-statistic: {t_stat}\")\n",
    "print(f\"Confidence Interval for β1: ({CI_lower}, {CI_upper})\")\n",
    "print(f\"Predictions for new X values {x_new}: {y_new_pred}\")\n",
    "\n",
    "# Step 12: Plot the data and the regression line\n",
    "plt.scatter(x, y, color='blue', label='Data points')\n",
    "plt.plot(x, y_hat, color='red', label='Regression line')\n",
    "plt.xlabel('X')\n",
    "plt.ylabel('Y')\n",
    "plt.legend()\n",
    "plt.show()\n"
   ]
  },
  {
   "cell_type": "code",
   "execution_count": 28,
   "id": "e21bad4a-f324-486e-96ed-1fbf01bbf0ab",
   "metadata": {},
   "outputs": [
    {
     "name": "stdout",
     "output_type": "stream",
     "text": [
      "Intercept (β0): 1.3529411764705879\n",
      "Slope (β1): 1.0098039215686276\n",
      "Predicted Y_hat values: [ 2.3627451   4.38235294  5.39215686  8.42156863 10.44117647]\n",
      "Residuals: [ 0.6372549  -0.38235294 -0.39215686 -0.42156863  0.55882353]\n",
      "Sum of Squared Residuals (SSR): 1.19607843137255\n",
      "R-Squared: 0.9720542422576507\n",
      "T-statistic: 10.215224895817572\n",
      "Confidence Interval for β1: (0.6952100881452045, 1.324397754992051)\n",
      "Predictions for new X values [6, 7]: [7.41176471 8.42156863]\n"
     ]
    },
    {
     "data": {
      "image/png": "[encoded data removed]",
      "text/plain": [
       "<Figure size 640x480 with 1 Axes>"
      ]
     },
     "metadata": {},
     "output_type": "display_data"
    }
   ],
   "source": [
    "import numpy as np\n",
    "import matplotlib.pyplot as plt\n",
    "from scipy import stats\n",
    "\n",
    "class SimpleLinearRegression:\n",
    "    def __init__(self, x, y):\n",
    "        self.x = np.array(x)\n",
    "        self.y = np.array(y)\n",
    "        self.n = len(x)\n",
    "        self.x_mean = np.mean(self.x)\n",
    "        self.y_mean = np.mean(self.y)\n",
    "        self.beta_1 = 0\n",
    "        self.beta_0 = 0\n",
    "        self.y_hat = None\n",
    "        self.residuals = None\n",
    "        self.SSR = 0\n",
    "        self.SST = 0\n",
    "        self.R_squared = 0\n",
    "        self.SE_beta_1 = 0\n",
    "        self.t_stat = 0\n",
    "        self.CI_lower = 0\n",
    "        self.CI_upper = 0\n",
    "    \n",
    "    # Step 1: Calculate the coefficients β1 (slope) and β0 (intercept)\n",
    "    def calculate_coefficients(self):\n",
    "        numerator = np.sum((self.x - self.x_mean) * (self.y - self.y_mean))\n",
    "        denominator = np.sum((self.x - self.x_mean)**2)\n",
    "        self.beta_1 = numerator / denominator\n",
    "        self.beta_0 = self.y_mean - self.beta_1 * self.x_mean\n",
    "\n",
    "    # Step 2: Calculate predicted values (Y_hat)\n",
    "    def predict(self):\n",
    "        self.y_hat = self.beta_0 + self.beta_1 * self.x\n",
    "        return self.y_hat\n",
    "\n",
    "    # Step 3: Calculate residuals\n",
    "    def calculate_residuals(self):\n",
    "        self.residuals = self.y - self.y_hat\n",
    "        return self.residuals\n",
    "\n",
    "    # Step 4: Calculate SSR (Sum of Squared Residuals)\n",
    "    def calculate_SSR(self):\n",
    "        self.SSR = np.sum(self.residuals**2)\n",
    "        return self.SSR\n",
    "\n",
    "    # Step 5: Calculate SST (Total Sum of Squares)\n",
    "    def calculate_SST(self):\n",
    "        self.SST = np.sum((self.y - self.y_mean)**2)\n",
    "        return self.SST\n",
    "\n",
    "    # Step 6: Calculate R-Squared\n",
    "    def calculate_R_squared(self):\n",
    "        self.R_squared = 1 - (self.SSR / self.SST)\n",
    "        return self.R_squared\n",
    "\n",
    "    # Step 7: Calculate the standard error of β1 (SE_β1)\n",
    "    def calculate_SE_beta_1(self):\n",
    "        denominator = np.sum((self.x - self.x_mean)**2)\n",
    "        self.SE_beta_1 = np.sqrt(self.SSR / (self.n - 2)) / np.sqrt(denominator)\n",
    "        return self.SE_beta_1\n",
    "\n",
    "    # Step 8: Calculate the t-statistic\n",
    "    def calculate_t_statistic(self):\n",
    "        self.t_stat = self.beta_1 / self.SE_beta_1\n",
    "        return self.t_stat\n",
    "\n",
    "    # Step 9: Confidence Interval for β1\n",
    "    def calculate_confidence_interval(self, alpha=0.05):\n",
    "        t_critical = stats.t.ppf(1 - alpha/2, df=self.n-2)\n",
    "        self.CI_lower = self.beta_1 - t_critical * self.SE_beta_1\n",
    "        self.CI_upper = self.beta_1 + t_critical * self.SE_beta_1\n",
    "        return (self.CI_lower, self.CI_upper)\n",
    "\n",
    "    # Step 10: Predict new Y values for given new X values\n",
    "    def predict_new(self, x_new):\n",
    "        return self.beta_0 + self.beta_1 * np.array(x_new)\n",
    "\n",
    "    # Step 11: Plot the regression line and data points\n",
    "    def plot_regression(self):\n",
    "        plt.scatter(self.x, self.y, color='blue', label='Data points')\n",
    "        plt.plot(self.x, self.y_hat, color='red', label='Regression line')\n",
    "        plt.xlabel('X')\n",
    "        plt.ylabel('Y')\n",
    "        plt.legend()\n",
    "        plt.show()\n",
    "\n",
    "# Example usage\n",
    "x = [1, 3, 4, 7, 9]\n",
    "y = [3, 4, 5, 8, 11]\n",
    "\n",
    "# Create an instance of the SimpleLinearRegression class\n",
    "regression = SimpleLinearRegression(x, y)\n",
    "\n",
    "# Call the methods to calculate the results\n",
    "regression.calculate_coefficients()\n",
    "y_hat = regression.predict()\n",
    "residuals = regression.calculate_residuals()\n",
    "SSR = regression.calculate_SSR()\n",
    "SST = regression.calculate_SST()\n",
    "R_squared = regression.calculate_R_squared()\n",
    "SE_beta_1 = regression.calculate_SE_beta_1()\n",
    "t_stat = regression.calculate_t_statistic()\n",
    "CI_lower, CI_upper = regression.calculate_confidence_interval()\n",
    "y_new_pred = regression.predict_new([6, 7])\n",
    "\n",
    "# Output the results\n",
    "print(f\"Intercept (β0): {regression.beta_0}\")\n",
    "print(f\"Slope (β1): {regression.beta_1}\")\n",
    "print(f\"Predicted Y_hat values: {y_hat}\")\n",
    "print(f\"Residuals: {residuals}\")\n",
    "print(f\"Sum of Squared Residuals (SSR): {SSR}\")\n",
    "print(f\"R-Squared: {R_squared}\")\n",
    "print(f\"T-statistic: {t_stat}\")\n",
    "print(f\"Confidence Interval for β1: ({CI_lower}, {CI_upper})\")\n",
    "print(f\"Predictions for new X values [6, 7]: {y_new_pred}\")\n",
    "\n",
    "# Step 12: Plot the regression line and data points\n",
    "regression.plot_regression()\n"
   ]
  },
  {
   "cell_type": "code",
   "execution_count": 37,
   "id": "436b9812-3c17-4646-b3bd-041a36ef6264",
   "metadata": {},
   "outputs": [
    {
     "data": {
      "image/png": "[encoded data removed]",
      "text/plain": [
       "<Figure size 640x480 with 1 Axes>"
      ]
     },
     "metadata": {},
     "output_type": "display_data"
    }
   ],
   "source": [
    "import numpy as np\n",
    "import matplotlib.pyplot as plt\n",
    "from sklearn.preprocessing import PolynomialFeatures\n",
    "from sklearn.linear_model import LinearRegression\n",
    "\n",
    "# Sample data points (x, y)\n",
    "x = np.array([1, 2, 3, 4, 5, 6, 7, 8, 9, 10])\n",
    "y = np.array([1, 4, 9, 16, 25, 36, 49, 64, 81, 100])  # Quadratic pattern for example\n",
    "\n",
    "# Reshape x for model fitting\n",
    "x = x[:, np.newaxis]\n",
    "\n",
    "# Fit Polynomial Regression (degree=2 for quadratic)\n",
    "poly = PolynomialFeatures(degree=3)\n",
    "x_poly = poly.fit_transform(x)\n",
    "\n",
    "# Train the model\n",
    "model = LinearRegression()\n",
    "model.fit(x_poly, y)\n",
    "\n",
    "# Predict using the trained model\n",
    "y_pred = model.predict(x_poly)\n",
    "\n",
    "# Plot original data points\n",
    "plt.scatter(x, y, color='blue', label='Original Data')\n",
    "\n",
    "# Plot polynomial regression curve\n",
    "plt.plot(x, y_pred, color='red', label='Polynomial Regression Curve')\n",
    "\n",
    "# Add labels and title\n",
    "plt.xlabel('X')\n",
    "plt.ylabel('Y')\n",
    "plt.title('Polynomial Regression Curve')\n",
    "plt.legend()\n",
    "\n",
    "# Show the plot\n",
    "plt.show()\n"
   ]
  },
  {
   "cell_type": "code",
   "execution_count": null,
   "id": "d2ffc66c-e4cb-4338-8008-c00fae87c443",
   "metadata": {},
   "outputs": [],
   "source": []
  },
  {
   "cell_type": "code",
   "execution_count": 43,
   "id": "70ae5d6c-d5ae-4316-9e3c-91dc6d01dc31",
   "metadata": {},
   "outputs": [
    {
     "data": {
      "image/png": "[encoded data removed]",
      "text/plain": [
       "<Figure size 640x480 with 1 Axes>"
      ]
     },
     "metadata": {},
     "output_type": "display_data"
    }
   ],
   "source": [
    "import numpy as np\n",
    "import matplotlib.pyplot as plt\n",
    "from sklearn.preprocessing import PolynomialFeatures\n",
    "from sklearn.linear_model import LinearRegression\n",
    "\n",
    "# Generate random data points\n",
    "np.random.seed(0)  # For reproducibility\n",
    "x = np.random.rand(20) * 10  # Random numbers between 0 and 10\n",
    "y = 3 * (x**2) - 5 * x + 10 + np.random.randn(20) * 10  # Random quadratic pattern with noise\n",
    "\n",
    "# Reshape x for model fitting\n",
    "x = x[:, np.newaxis]\n",
    "\n",
    "# Fit Polynomial Regression (degree=2 for quadratic)\n",
    "poly = PolynomialFeatures(degree=2)\n",
    "x_poly = poly.fit_transform(x)\n",
    "\n",
    "# Train the model\n",
    "model = LinearRegression()\n",
    "model.fit(x_poly, y)\n",
    "\n",
    "# Flatten x for generating the x_range\n",
    "x_flat = x.flatten()\n",
    "\n",
    "# Predict using the trained model\n",
    "x_range = np.linspace(min(x_flat), max(x_flat), 100)  # Generate 100 points between min and max of x\n",
    "x_range_poly = poly.transform(x_range[:, np.newaxis])\n",
    "y_pred = model.predict(x_range_poly)\n",
    "\n",
    "# Plot original data points\n",
    "plt.scatter(x, y, color='blue', label='Random Data')\n",
    "\n",
    "# Plot polynomial regression curve\n",
    "plt.plot(x_range, y_pred, color='red', label='Polynomial Regression Curve')\n",
    "\n",
    "# Add labels and title\n",
    "plt.xlabel('X')\n",
    "plt.ylabel('Y')\n",
    "plt.title('Polynomial Regression with Random Data')\n",
    "plt.legend()\n",
    "\n",
    "# Show the plot\n",
    "plt.show()\n"
   ]
  },
  {
   "cell_type": "code",
   "execution_count": null,
   "id": "7a64348f-f17b-4227-8ea1-dc64358e342a",
   "metadata": {},
   "outputs": [],
   "source": []
  }
 ],
 "metadata": {
  "kernelspec": {
   "display_name": "Python 3 (ipykernel)",
   "language": "python",
   "name": "python3"
  },
  "language_info": {
   "codemirror_mode": {
    "name": "ipython",
    "version": 3
   },
   "file_extension": ".py",
   "mimetype": "text/x-python",
   "name": "python",
   "nbconvert_exporter": "python",
   "pygments_lexer": "ipython3",
   "version": "3.12.4"
  }
 },
 "nbformat": 4,
 "nbformat_minor": 5
}
